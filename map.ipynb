{
 "cells": [
  {
   "metadata": {},
   "cell_type": "markdown",
   "source": "# Visualisatiot of scors in map",
   "id": "e58401a98884c84c"
  },
  {
   "metadata": {},
   "cell_type": "markdown",
   "source": "## EIT results",
   "id": "809e44b0c44c426"
  },
  {
   "cell_type": "code",
   "id": "initial_id",
   "metadata": {
    "collapsed": true
   },
   "source": [
    "!pip install altair\n",
    "\n",
    "import altair as alt\n",
    "import pandas as pd\n",
    "import file_processing_EIT"
   ],
   "outputs": [],
   "execution_count": null
  },
  {
   "metadata": {},
   "cell_type": "markdown",
   "source": "Group by EIT preparation region, and sort by descending average score.",
   "id": "2c84fefe23b80212"
  },
  {
   "metadata": {
    "ExecuteTime": {
     "end_time": "2025-06-10T18:10:25.227420Z",
     "start_time": "2025-06-10T18:10:25.184819Z"
    }
   },
   "cell_type": "code",
   "source": [
    "eit = file_processing_EIT.EIT\n",
    "\n",
    "eit_by_region = eit.groupby('EORegName')['Average Score'].median().reset_index()\n",
    "eit_by_region = eit_by_region.sort_values('Average Score', ascending=False)"
   ],
   "id": "a7f373ad33454fbc",
   "outputs": [],
   "execution_count": 2
  },
  {
   "metadata": {},
   "cell_type": "markdown",
   "source": "We translate the names of the regions into English according to the content of the JSON file describing the map of Ukraine.",
   "id": "8aca0820d30311e0"
  },
  {
   "metadata": {
    "ExecuteTime": {
     "end_time": "2025-06-10T18:10:25.234462Z",
     "start_time": "2025-06-10T18:10:25.232115Z"
    }
   },
   "cell_type": "code",
   "source": [
    "mapping = {\n",
    "    \"Черкаська область\": \"Cherkasy\", \"Чернігівська область\": \"Chernihiv\", \"Чернівецька область\": \"Chernivtsi\",\n",
    "    \"Дніпропетровська область\": \"Dnipropetrovs'k\", \"Донецька область\": \"Donets'k\", \"Івано-Франківська область\": \"Ivano-Frankivs'k\",\n",
    "    \"Харківська область\": \"Kharkiv\", \"Херсонська область\": \"Kherson\", \"Хмельницька область\": \"Khmel'nyts'kyy\",\n",
    "    \"Київська область\": \"Kiev\", \"Кіровоградська область\": \"Kirovohrad\", \"Луганська область\": \"Luhans'k\",\n",
    "    \"Львівська область\": \"L'viv\", \"Миколаївська область\": \"Mykolayiv\", \"Одеська область\": \"Odessa\",\n",
    "    \"Полтавська область\": \"Poltava\", \"Рівненська область\": \"Rivne\", \"Сумська область\": \"Sumy\",\n",
    "    \"Тернопільська область\": \"Ternopil'\", \"Вінницька область\": \"Vinnytsya\", \"Волинська область\": \"Volyn\",\n",
    "    \"Закарпатська область\": \"Transcarpathia\", \"Запорізька область\": \"Zaporizhzhya\", \"Житомирська область\": \"Zhytomyr\",\n",
    "    \"м.Київ\" : \"Kiev City\"\n",
    "}\n",
    "\n",
    "eit_by_region['EORegName'] = eit_by_region['EORegName'].map(mapping)"
   ],
   "id": "fa166da22906a0b4",
   "outputs": [],
   "execution_count": 3
  },
  {
   "metadata": {},
   "cell_type": "markdown",
   "source": "Some areas are not in the dataset itself. Therefore, we add them manually and assign a score of 130. (so that they are displayed on the map and will not shift average score)",
   "id": "5773ba2ce283ae44"
  },
  {
   "metadata": {
    "ExecuteTime": {
     "end_time": "2025-06-10T18:10:25.240917Z",
     "start_time": "2025-06-10T18:10:25.238800Z"
    }
   },
   "cell_type": "code",
   "source": [
    "missing_regions = ['Crimea']\n",
    "\n",
    "missing_data = pd.DataFrame({\n",
    "    'EORegName': missing_regions,\n",
    "    'Average Score': 130\n",
    "})\n",
    "\n",
    "eit_by_region = pd.concat([eit_by_region, missing_data], ignore_index=True)"
   ],
   "id": "54afedf2017924c9",
   "outputs": [],
   "execution_count": 4
  },
  {
   "metadata": {},
   "cell_type": "markdown",
   "source": "In the final, we display the results",
   "id": "4c234650aeeac8d8"
  },
  {
   "metadata": {
    "ExecuteTime": {
     "end_time": "2025-06-10T18:12:36.318100Z",
     "start_time": "2025-06-10T18:12:36.299795Z"
    }
   },
   "cell_type": "code",
   "source": [
    "ukraine = alt.topo_feature(\n",
    "    \"https://raw.githubusercontent.com/org-scn-design-studio-community/sdkcommunitymaps/master/geojson/Europe/Ukraine-regions.json\",\n",
    "    'UKR_adm1',)\n",
    "\n",
    "mapa = (alt.Chart(ukraine).mark_geoshape(\n",
    "    stroke='black',\n",
    "    strokeWidth=0.5\n",
    ").encode(\n",
    "    color='Average Score:Q'\n",
    ").transform_lookup(\n",
    "    lookup='properties.NAME_1',\n",
    "    from_=alt.LookupData(eit_by_region, 'EORegName', ['Average Score'])\n",
    ").properties(\n",
    "    width=800,\n",
    "    height=400\n",
    "))\n",
    "\n",
    "mapa"
   ],
   "id": "60db4e1e90815f8d",
   "outputs": [
    {
     "data": {
      "text/html": [
       "\n",
       "<style>\n",
       "  #altair-viz-8c3eacadb416440ba64b75e69c55b7ba.vega-embed {\n",
       "    width: 100%;\n",
       "    display: flex;\n",
       "  }\n",
       "\n",
       "  #altair-viz-8c3eacadb416440ba64b75e69c55b7ba.vega-embed details,\n",
       "  #altair-viz-8c3eacadb416440ba64b75e69c55b7ba.vega-embed details summary {\n",
       "    position: relative;\n",
       "  }\n",
       "</style>\n",
       "<div id=\"altair-viz-8c3eacadb416440ba64b75e69c55b7ba\"></div>\n",
       "<script type=\"text/javascript\">\n",
       "  var VEGA_DEBUG = (typeof VEGA_DEBUG == \"undefined\") ? {} : VEGA_DEBUG;\n",
       "  (function(spec, embedOpt){\n",
       "    let outputDiv = document.currentScript.previousElementSibling;\n",
       "    if (outputDiv.id !== \"altair-viz-8c3eacadb416440ba64b75e69c55b7ba\") {\n",
       "      outputDiv = document.getElementById(\"altair-viz-8c3eacadb416440ba64b75e69c55b7ba\");\n",
       "    }\n",
       "\n",
       "    const paths = {\n",
       "      \"vega\": \"https://cdn.jsdelivr.net/npm/vega@5?noext\",\n",
       "      \"vega-lib\": \"https://cdn.jsdelivr.net/npm/vega-lib?noext\",\n",
       "      \"vega-lite\": \"https://cdn.jsdelivr.net/npm/vega-lite@5.20.1?noext\",\n",
       "      \"vega-embed\": \"https://cdn.jsdelivr.net/npm/vega-embed@6?noext\",\n",
       "    };\n",
       "\n",
       "    function maybeLoadScript(lib, version) {\n",
       "      var key = `${lib.replace(\"-\", \"\")}_version`;\n",
       "      return (VEGA_DEBUG[key] == version) ?\n",
       "        Promise.resolve(paths[lib]) :\n",
       "        new Promise(function(resolve, reject) {\n",
       "          var s = document.createElement('script');\n",
       "          document.getElementsByTagName(\"head\")[0].appendChild(s);\n",
       "          s.async = true;\n",
       "          s.onload = () => {\n",
       "            VEGA_DEBUG[key] = version;\n",
       "            return resolve(paths[lib]);\n",
       "          };\n",
       "          s.onerror = () => reject(`Error loading script: ${paths[lib]}`);\n",
       "          s.src = paths[lib];\n",
       "        });\n",
       "    }\n",
       "\n",
       "    function showError(err) {\n",
       "      outputDiv.innerHTML = `<div class=\"error\" style=\"color:red;\">${err}</div>`;\n",
       "      throw err;\n",
       "    }\n",
       "\n",
       "    function displayChart(vegaEmbed) {\n",
       "      vegaEmbed(outputDiv, spec, embedOpt)\n",
       "        .catch(err => showError(`Javascript Error: ${err.message}<br>This usually means there's a typo in your chart specification. See the javascript console for the full traceback.`));\n",
       "    }\n",
       "\n",
       "    if(typeof define === \"function\" && define.amd) {\n",
       "      requirejs.config({paths});\n",
       "      let deps = [\"vega-embed\"];\n",
       "      require(deps, displayChart, err => showError(`Error loading script: ${err.message}`));\n",
       "    } else {\n",
       "      maybeLoadScript(\"vega\", \"5\")\n",
       "        .then(() => maybeLoadScript(\"vega-lite\", \"5.20.1\"))\n",
       "        .then(() => maybeLoadScript(\"vega-embed\", \"6\"))\n",
       "        .catch(showError)\n",
       "        .then(() => displayChart(vegaEmbed));\n",
       "    }\n",
       "  })({\"config\": {\"view\": {\"continuousWidth\": 300, \"continuousHeight\": 300}}, \"data\": {\"url\": \"https://raw.githubusercontent.com/org-scn-design-studio-community/sdkcommunitymaps/master/geojson/Europe/Ukraine-regions.json\", \"format\": {\"feature\": \"UKR_adm1\", \"type\": \"topojson\"}}, \"mark\": {\"type\": \"geoshape\", \"stroke\": \"black\", \"strokeWidth\": 0.5}, \"encoding\": {\"color\": {\"field\": \"Average Score\", \"type\": \"quantitative\"}}, \"height\": 400, \"transform\": [{\"lookup\": \"properties.NAME_1\", \"from\": {\"data\": {\"name\": \"data-0dc88e32b00a1b491ead101709e1aeea\"}, \"key\": \"EORegName\", \"fields\": [\"Average Score\"]}}], \"width\": 800, \"$schema\": \"https://vega.github.io/schema/vega-lite/v5.20.1.json\", \"datasets\": {\"data-0dc88e32b00a1b491ead101709e1aeea\": [{\"EORegName\": \"Kiev City\", \"Average Score\": 145.0}, {\"EORegName\": \"L'viv\", \"Average Score\": 142.5}, {\"EORegName\": \"Kharkiv\", \"Average Score\": 139.0}, {\"EORegName\": \"Kiev\", \"Average Score\": 137.0}, {\"EORegName\": \"Volyn\", \"Average Score\": 137.0}, {\"EORegName\": \"Cherkasy\", \"Average Score\": 136.5}, {\"EORegName\": \"Sumy\", \"Average Score\": 136.5}, {\"EORegName\": \"Chernihiv\", \"Average Score\": 135.0}, {\"EORegName\": \"Khmel'nyts'kyy\", \"Average Score\": 135.0}, {\"EORegName\": \"Ternopil'\", \"Average Score\": 135.0}, {\"EORegName\": \"Poltava\", \"Average Score\": 134.0}, {\"EORegName\": \"Ivano-Frankivs'k\", \"Average Score\": 134.0}, {\"EORegName\": \"Rivne\", \"Average Score\": 133.0}, {\"EORegName\": \"Zhytomyr\", \"Average Score\": 133.0}, {\"EORegName\": \"Kirovohrad\", \"Average Score\": 132.5}, {\"EORegName\": \"Dnipropetrovs'k\", \"Average Score\": 132.5}, {\"EORegName\": \"Vinnytsya\", \"Average Score\": 132.5}, {\"EORegName\": \"Luhans'k\", \"Average Score\": 132.0}, {\"EORegName\": \"Odessa\", \"Average Score\": 132.0}, {\"EORegName\": \"Zaporizhzhya\", \"Average Score\": 132.0}, {\"EORegName\": \"Donets'k\", \"Average Score\": 132.0}, {\"EORegName\": \"Kherson\", \"Average Score\": 131.5}, {\"EORegName\": \"Mykolayiv\", \"Average Score\": 129.5}, {\"EORegName\": \"Chernivtsi\", \"Average Score\": 129.0}, {\"EORegName\": \"Transcarpathia\", \"Average Score\": 124.5}, {\"EORegName\": \"Crimea\", \"Average Score\": 130.0}]}}, {\"mode\": \"vega-lite\"});\n",
       "</script>"
      ],
      "text/plain": [
       "alt.Chart(...)"
      ]
     },
     "execution_count": 7,
     "metadata": {},
     "output_type": "execute_result"
    }
   ],
   "execution_count": 7
  },
  {
   "metadata": {
    "ExecuteTime": {
     "end_time": "2025-06-10T18:10:25.313218Z",
     "start_time": "2025-06-10T18:10:25.306529Z"
    }
   },
   "cell_type": "code",
   "source": "eit_by_region",
   "id": "4f81aa62f87374c5",
   "outputs": [
    {
     "data": {
      "text/plain": [
       "           EORegName  Average Score\n",
       "0          Kiev City          145.0\n",
       "1              L'viv          142.5\n",
       "2            Kharkiv          139.0\n",
       "3               Kiev          137.0\n",
       "4              Volyn          137.0\n",
       "5           Cherkasy          136.5\n",
       "6               Sumy          136.5\n",
       "7          Chernihiv          135.0\n",
       "8     Khmel'nyts'kyy          135.0\n",
       "9          Ternopil'          135.0\n",
       "10           Poltava          134.0\n",
       "11  Ivano-Frankivs'k          134.0\n",
       "12             Rivne          133.0\n",
       "13          Zhytomyr          133.0\n",
       "14        Kirovohrad          132.5\n",
       "15   Dnipropetrovs'k          132.5\n",
       "16         Vinnytsya          132.5\n",
       "17          Luhans'k          132.0\n",
       "18            Odessa          132.0\n",
       "19      Zaporizhzhya          132.0\n",
       "20          Donets'k          132.0\n",
       "21           Kherson          131.5\n",
       "22         Mykolayiv          129.5\n",
       "23        Chernivtsi          129.0\n",
       "24    Transcarpathia          124.5\n",
       "25            Crimea          130.0"
      ],
      "text/html": [
       "<div>\n",
       "<style scoped>\n",
       "    .dataframe tbody tr th:only-of-type {\n",
       "        vertical-align: middle;\n",
       "    }\n",
       "\n",
       "    .dataframe tbody tr th {\n",
       "        vertical-align: top;\n",
       "    }\n",
       "\n",
       "    .dataframe thead th {\n",
       "        text-align: right;\n",
       "    }\n",
       "</style>\n",
       "<table border=\"1\" class=\"dataframe\">\n",
       "  <thead>\n",
       "    <tr style=\"text-align: right;\">\n",
       "      <th></th>\n",
       "      <th>EORegName</th>\n",
       "      <th>Average Score</th>\n",
       "    </tr>\n",
       "  </thead>\n",
       "  <tbody>\n",
       "    <tr>\n",
       "      <th>0</th>\n",
       "      <td>Kiev City</td>\n",
       "      <td>145.0</td>\n",
       "    </tr>\n",
       "    <tr>\n",
       "      <th>1</th>\n",
       "      <td>L'viv</td>\n",
       "      <td>142.5</td>\n",
       "    </tr>\n",
       "    <tr>\n",
       "      <th>2</th>\n",
       "      <td>Kharkiv</td>\n",
       "      <td>139.0</td>\n",
       "    </tr>\n",
       "    <tr>\n",
       "      <th>3</th>\n",
       "      <td>Kiev</td>\n",
       "      <td>137.0</td>\n",
       "    </tr>\n",
       "    <tr>\n",
       "      <th>4</th>\n",
       "      <td>Volyn</td>\n",
       "      <td>137.0</td>\n",
       "    </tr>\n",
       "    <tr>\n",
       "      <th>5</th>\n",
       "      <td>Cherkasy</td>\n",
       "      <td>136.5</td>\n",
       "    </tr>\n",
       "    <tr>\n",
       "      <th>6</th>\n",
       "      <td>Sumy</td>\n",
       "      <td>136.5</td>\n",
       "    </tr>\n",
       "    <tr>\n",
       "      <th>7</th>\n",
       "      <td>Chernihiv</td>\n",
       "      <td>135.0</td>\n",
       "    </tr>\n",
       "    <tr>\n",
       "      <th>8</th>\n",
       "      <td>Khmel'nyts'kyy</td>\n",
       "      <td>135.0</td>\n",
       "    </tr>\n",
       "    <tr>\n",
       "      <th>9</th>\n",
       "      <td>Ternopil'</td>\n",
       "      <td>135.0</td>\n",
       "    </tr>\n",
       "    <tr>\n",
       "      <th>10</th>\n",
       "      <td>Poltava</td>\n",
       "      <td>134.0</td>\n",
       "    </tr>\n",
       "    <tr>\n",
       "      <th>11</th>\n",
       "      <td>Ivano-Frankivs'k</td>\n",
       "      <td>134.0</td>\n",
       "    </tr>\n",
       "    <tr>\n",
       "      <th>12</th>\n",
       "      <td>Rivne</td>\n",
       "      <td>133.0</td>\n",
       "    </tr>\n",
       "    <tr>\n",
       "      <th>13</th>\n",
       "      <td>Zhytomyr</td>\n",
       "      <td>133.0</td>\n",
       "    </tr>\n",
       "    <tr>\n",
       "      <th>14</th>\n",
       "      <td>Kirovohrad</td>\n",
       "      <td>132.5</td>\n",
       "    </tr>\n",
       "    <tr>\n",
       "      <th>15</th>\n",
       "      <td>Dnipropetrovs'k</td>\n",
       "      <td>132.5</td>\n",
       "    </tr>\n",
       "    <tr>\n",
       "      <th>16</th>\n",
       "      <td>Vinnytsya</td>\n",
       "      <td>132.5</td>\n",
       "    </tr>\n",
       "    <tr>\n",
       "      <th>17</th>\n",
       "      <td>Luhans'k</td>\n",
       "      <td>132.0</td>\n",
       "    </tr>\n",
       "    <tr>\n",
       "      <th>18</th>\n",
       "      <td>Odessa</td>\n",
       "      <td>132.0</td>\n",
       "    </tr>\n",
       "    <tr>\n",
       "      <th>19</th>\n",
       "      <td>Zaporizhzhya</td>\n",
       "      <td>132.0</td>\n",
       "    </tr>\n",
       "    <tr>\n",
       "      <th>20</th>\n",
       "      <td>Donets'k</td>\n",
       "      <td>132.0</td>\n",
       "    </tr>\n",
       "    <tr>\n",
       "      <th>21</th>\n",
       "      <td>Kherson</td>\n",
       "      <td>131.5</td>\n",
       "    </tr>\n",
       "    <tr>\n",
       "      <th>22</th>\n",
       "      <td>Mykolayiv</td>\n",
       "      <td>129.5</td>\n",
       "    </tr>\n",
       "    <tr>\n",
       "      <th>23</th>\n",
       "      <td>Chernivtsi</td>\n",
       "      <td>129.0</td>\n",
       "    </tr>\n",
       "    <tr>\n",
       "      <th>24</th>\n",
       "      <td>Transcarpathia</td>\n",
       "      <td>124.5</td>\n",
       "    </tr>\n",
       "    <tr>\n",
       "      <th>25</th>\n",
       "      <td>Crimea</td>\n",
       "      <td>130.0</td>\n",
       "    </tr>\n",
       "  </tbody>\n",
       "</table>\n",
       "</div>"
      ]
     },
     "execution_count": 6,
     "metadata": {},
     "output_type": "execute_result"
    }
   ],
   "execution_count": 6
  },
  {
   "metadata": {},
   "cell_type": "markdown",
   "source": "## NMT results",
   "id": "f9882baa190e0ab6"
  },
  {
   "metadata": {
    "ExecuteTime": {
     "end_time": "2025-06-10T18:10:25.351236Z",
     "start_time": "2025-06-10T18:10:25.348025Z"
    }
   },
   "cell_type": "code",
   "source": "",
   "id": "66f1e49434223757",
   "outputs": [],
   "execution_count": null
  },
  {
   "metadata": {
    "ExecuteTime": {
     "end_time": "2025-06-10T18:10:25.360961Z",
     "start_time": "2025-06-10T18:10:25.359122Z"
    }
   },
   "cell_type": "code",
   "source": "",
   "id": "4f59b513e41c0968",
   "outputs": [],
   "execution_count": null
  },
  {
   "metadata": {
    "ExecuteTime": {
     "end_time": "2025-06-10T18:10:25.379292Z",
     "start_time": "2025-06-10T18:10:25.375950Z"
    }
   },
   "cell_type": "code",
   "source": "",
   "id": "ac6c6093cd960b0e",
   "outputs": [],
   "execution_count": null
  }
 ],
 "metadata": {
  "kernelspec": {
   "display_name": "Python 3",
   "language": "python",
   "name": "python3"
  },
  "language_info": {
   "codemirror_mode": {
    "name": "ipython",
    "version": 2
   },
   "file_extension": ".py",
   "mimetype": "text/x-python",
   "name": "python",
   "nbconvert_exporter": "python",
   "pygments_lexer": "ipython2",
   "version": "2.7.6"
  }
 },
 "nbformat": 4,
 "nbformat_minor": 5
}
