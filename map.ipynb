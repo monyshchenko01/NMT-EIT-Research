{
 "cells": [
  {
   "metadata": {},
   "cell_type": "markdown",
   "source": "# Visualisatiot of scors in map",
   "id": "e58401a98884c84c"
  },
  {
   "metadata": {},
   "cell_type": "markdown",
   "source": "## EIT results",
   "id": "809e44b0c44c426"
  },
  {
   "cell_type": "code",
   "id": "initial_id",
   "metadata": {
    "collapsed": true
   },
   "source": [
    "!pip install altair\n",
    "\n",
    "import altair as alt\n",
    "import pandas as pd\n",
    "import file_processing_EIT\n",
    "\n",
    "alt.data_transformers.enable('default')"
   ],
   "outputs": [],
   "execution_count": null
  },
  {
   "metadata": {},
   "cell_type": "markdown",
   "source": "Group by EIT preparation region, and sort by descending average score.",
   "id": "2c84fefe23b80212"
  },
  {
   "metadata": {
    "ExecuteTime": {
     "end_time": "2025-06-10T16:49:56.428713Z",
     "start_time": "2025-06-10T16:49:56.387046Z"
    }
   },
   "cell_type": "code",
   "source": [
    "eit = file_processing_EIT.EIT\n",
    "\n",
    "eit_by_region = eit.groupby('EORegName')['Average Score'].median().reset_index()\n",
    "eit_by_region = eit_by_region.sort_values('Average Score', ascending=False)"
   ],
   "id": "a7f373ad33454fbc",
   "outputs": [],
   "execution_count": 182
  },
  {
   "metadata": {},
   "cell_type": "markdown",
   "source": "We translate the names of the regions into English according to the content of the JSON file describing the map of Ukraine.",
   "id": "8aca0820d30311e0"
  },
  {
   "metadata": {
    "ExecuteTime": {
     "end_time": "2025-06-10T16:49:56.433875Z",
     "start_time": "2025-06-10T16:49:56.431Z"
    }
   },
   "cell_type": "code",
   "source": [
    "mapping = {\n",
    "    \"Черкаська область\": \"Cherkasy\", \"Чернігівська область \": \"Chernihiv\", \"Чернівецька область\": \"Chernivtsi\",\n",
    "    \"Дніпропетровська область\": \"Dnipropetrovs'k\", \"Донецька область\": \"Donetsk\", \"Івано-Франківська область\": \"Ivano-Frankivs'k\",\n",
    "    \"Харківська область\": \"Kharkiv\", \"Херсонська область\": \"Kherson\", \"Хмельницька область\": \"Khmel'nyts'kyy\",\n",
    "    \"Київська область\": \"Kiev\", \"Кіровоградська область\": \"Kirovohrad\", \"Луганська область\": \"Luhansk\",\n",
    "    \"Львівська область\": \"L'viv\", \"Миколаївська область\": \"Mykolayiv\", \"Одеська область\": \"Odessa\",\n",
    "    \"Полтавська область\": \"Poltava\", \"Рівненська область\": \"Rivne\", \"Сумська область\": \"Sumy\",\n",
    "    \"Тернопільська область\": \"Ternopil'\", \"Вінницька область\": \"Vinnytsya\", \"Волинська область\": \"Volyn\",\n",
    "    \"Закарпатська область\": \"Transcarpathia\", \"Запорізька область\": \"Zaporizhzhya\", \"Житомирська область\": \"Zhytomyr\",\n",
    "    \"м.Київ\" : \"Kiev City\"\n",
    "}\n",
    "\n",
    "eit_by_region['EORegName'] = eit_by_region['EORegName'].map(mapping)"
   ],
   "id": "fa166da22906a0b4",
   "outputs": [],
   "execution_count": 183
  },
  {
   "metadata": {},
   "cell_type": "markdown",
   "source": "Some areas are not in the dataset itself. Therefore, we add them manually and assign a score of 0. (so that they are displayed on the map)",
   "id": "5773ba2ce283ae44"
  },
  {
   "metadata": {
    "ExecuteTime": {
     "end_time": "2025-06-10T16:49:56.437608Z",
     "start_time": "2025-06-10T16:49:56.435696Z"
    }
   },
   "cell_type": "code",
   "source": [
    "missing_regions = ['Chernihiv', \"Luhans'k\", \"Donets'k\", 'Crimea']\n",
    "\n",
    "missing_data = pd.DataFrame({\n",
    "    'EORegName': missing_regions,\n",
    "    'Average Score': 0\n",
    "})\n",
    "\n",
    "eit_by_region = pd.concat([eit_by_region, missing_data], ignore_index=True)"
   ],
   "id": "54afedf2017924c9",
   "outputs": [],
   "execution_count": 184
  },
  {
   "metadata": {},
   "cell_type": "markdown",
   "source": "In the final, we display the results",
   "id": "4c234650aeeac8d8"
  },
  {
   "metadata": {
    "ExecuteTime": {
     "end_time": "2025-06-10T16:49:56.449258Z",
     "start_time": "2025-06-10T16:49:56.439607Z"
    }
   },
   "cell_type": "code",
   "source": [
    "ukraine = alt.topo_feature(\n",
    "    \"https://raw.githubusercontent.com/org-scn-design-studio-community/sdkcommunitymaps/master/geojson/Europe/Ukraine-regions.json\",\n",
    "    'UKR_adm1',)\n",
    "\n",
    "mapa = alt.Chart(ukraine).mark_geoshape().encode(\n",
    "    color='Average Score:Q'\n",
    ").transform_lookup(\n",
    "    lookup='properties.NAME_1',\n",
    "    from_=alt.LookupData(eit_by_region, 'EORegName', ['Average Score'])\n",
    ").properties(\n",
    "    width=800,\n",
    "    height=400\n",
    ")\n",
    "\n",
    "mapa"
   ],
   "id": "60db4e1e90815f8d",
   "outputs": [
    {
     "data": {
      "text/html": [
       "\n",
       "<style>\n",
       "  #altair-viz-993adab046c946a5bd4911e4d1125d61.vega-embed {\n",
       "    width: 100%;\n",
       "    display: flex;\n",
       "  }\n",
       "\n",
       "  #altair-viz-993adab046c946a5bd4911e4d1125d61.vega-embed details,\n",
       "  #altair-viz-993adab046c946a5bd4911e4d1125d61.vega-embed details summary {\n",
       "    position: relative;\n",
       "  }\n",
       "</style>\n",
       "<div id=\"altair-viz-993adab046c946a5bd4911e4d1125d61\"></div>\n",
       "<script type=\"text/javascript\">\n",
       "  var VEGA_DEBUG = (typeof VEGA_DEBUG == \"undefined\") ? {} : VEGA_DEBUG;\n",
       "  (function(spec, embedOpt){\n",
       "    let outputDiv = document.currentScript.previousElementSibling;\n",
       "    if (outputDiv.id !== \"altair-viz-993adab046c946a5bd4911e4d1125d61\") {\n",
       "      outputDiv = document.getElementById(\"altair-viz-993adab046c946a5bd4911e4d1125d61\");\n",
       "    }\n",
       "\n",
       "    const paths = {\n",
       "      \"vega\": \"https://cdn.jsdelivr.net/npm/vega@5?noext\",\n",
       "      \"vega-lib\": \"https://cdn.jsdelivr.net/npm/vega-lib?noext\",\n",
       "      \"vega-lite\": \"https://cdn.jsdelivr.net/npm/vega-lite@5.20.1?noext\",\n",
       "      \"vega-embed\": \"https://cdn.jsdelivr.net/npm/vega-embed@6?noext\",\n",
       "    };\n",
       "\n",
       "    function maybeLoadScript(lib, version) {\n",
       "      var key = `${lib.replace(\"-\", \"\")}_version`;\n",
       "      return (VEGA_DEBUG[key] == version) ?\n",
       "        Promise.resolve(paths[lib]) :\n",
       "        new Promise(function(resolve, reject) {\n",
       "          var s = document.createElement('script');\n",
       "          document.getElementsByTagName(\"head\")[0].appendChild(s);\n",
       "          s.async = true;\n",
       "          s.onload = () => {\n",
       "            VEGA_DEBUG[key] = version;\n",
       "            return resolve(paths[lib]);\n",
       "          };\n",
       "          s.onerror = () => reject(`Error loading script: ${paths[lib]}`);\n",
       "          s.src = paths[lib];\n",
       "        });\n",
       "    }\n",
       "\n",
       "    function showError(err) {\n",
       "      outputDiv.innerHTML = `<div class=\"error\" style=\"color:red;\">${err}</div>`;\n",
       "      throw err;\n",
       "    }\n",
       "\n",
       "    function displayChart(vegaEmbed) {\n",
       "      vegaEmbed(outputDiv, spec, embedOpt)\n",
       "        .catch(err => showError(`Javascript Error: ${err.message}<br>This usually means there's a typo in your chart specification. See the javascript console for the full traceback.`));\n",
       "    }\n",
       "\n",
       "    if(typeof define === \"function\" && define.amd) {\n",
       "      requirejs.config({paths});\n",
       "      let deps = [\"vega-embed\"];\n",
       "      require(deps, displayChart, err => showError(`Error loading script: ${err.message}`));\n",
       "    } else {\n",
       "      maybeLoadScript(\"vega\", \"5\")\n",
       "        .then(() => maybeLoadScript(\"vega-lite\", \"5.20.1\"))\n",
       "        .then(() => maybeLoadScript(\"vega-embed\", \"6\"))\n",
       "        .catch(showError)\n",
       "        .then(() => displayChart(vegaEmbed));\n",
       "    }\n",
       "  })({\"config\": {\"view\": {\"continuousWidth\": 300, \"continuousHeight\": 300}}, \"data\": {\"url\": \"https://raw.githubusercontent.com/org-scn-design-studio-community/sdkcommunitymaps/master/geojson/Europe/Ukraine-regions.json\", \"format\": {\"feature\": \"UKR_adm1\", \"type\": \"topojson\"}}, \"mark\": {\"type\": \"geoshape\"}, \"encoding\": {\"color\": {\"field\": \"Average Score\", \"type\": \"quantitative\"}}, \"height\": 400, \"transform\": [{\"lookup\": \"properties.NAME_1\", \"from\": {\"data\": {\"name\": \"data-02346a57fb1209c587ccfdc89193254e\"}, \"key\": \"EORegName\", \"fields\": [\"Average Score\"]}}], \"width\": 800, \"$schema\": \"https://vega.github.io/schema/vega-lite/v5.20.1.json\", \"datasets\": {\"data-02346a57fb1209c587ccfdc89193254e\": [{\"EORegName\": \"Kiev City\", \"Average Score\": 144.0}, {\"EORegName\": \"L'viv\", \"Average Score\": 141.5}, {\"EORegName\": \"Kharkiv\", \"Average Score\": 138.5}, {\"EORegName\": \"Volyn\", \"Average Score\": 136.33333333333334}, {\"EORegName\": \"Cherkasy\", \"Average Score\": 136.0}, {\"EORegName\": \"Sumy\", \"Average Score\": 136.0}, {\"EORegName\": \"Kiev\", \"Average Score\": 136.0}, {\"EORegName\": null, \"Average Score\": 135.0}, {\"EORegName\": \"Ternopil'\", \"Average Score\": 134.6}, {\"EORegName\": \"Khmel'nyts'kyy\", \"Average Score\": 134.33333333333334}, {\"EORegName\": \"Poltava\", \"Average Score\": 133.75}, {\"EORegName\": \"Ivano-Frankivs'k\", \"Average Score\": 133.4}, {\"EORegName\": \"Rivne\", \"Average Score\": 133.0}, {\"EORegName\": \"Zhytomyr\", \"Average Score\": 132.5}, {\"EORegName\": \"Dnipropetrovs'k\", \"Average Score\": 132.5}, {\"EORegName\": \"Vinnytsya\", \"Average Score\": 132.5}, {\"EORegName\": \"Kirovohrad\", \"Average Score\": 132.25}, {\"EORegName\": \"Luhansk\", \"Average Score\": 132.0}, {\"EORegName\": \"Donetsk\", \"Average Score\": 132.0}, {\"EORegName\": \"Zaporizhzhya\", \"Average Score\": 131.75}, {\"EORegName\": \"Odessa\", \"Average Score\": 131.66666666666666}, {\"EORegName\": \"Kherson\", \"Average Score\": 131.0}, {\"EORegName\": \"Mykolayiv\", \"Average Score\": 129.5}, {\"EORegName\": \"Chernivtsi\", \"Average Score\": 129.0}, {\"EORegName\": \"Transcarpathia\", \"Average Score\": 125.25}, {\"EORegName\": \"Chernihiv\", \"Average Score\": 0.0}, {\"EORegName\": \"Luhans'k\", \"Average Score\": 0.0}, {\"EORegName\": \"Donets'k\", \"Average Score\": 0.0}, {\"EORegName\": \"Crimea\", \"Average Score\": 0.0}]}}, {\"mode\": \"vega-lite\"});\n",
       "</script>"
      ],
      "text/plain": [
       "alt.Chart(...)"
      ]
     },
     "execution_count": 185,
     "metadata": {},
     "output_type": "execute_result"
    }
   ],
   "execution_count": 185
  },
  {
   "metadata": {
    "ExecuteTime": {
     "end_time": "2025-06-10T16:49:56.461390Z",
     "start_time": "2025-06-10T16:49:56.457577Z"
    }
   },
   "cell_type": "code",
   "source": "eit_by_region",
   "id": "4f81aa62f87374c5",
   "outputs": [
    {
     "data": {
      "text/plain": [
       "           EORegName  Average Score\n",
       "0          Kiev City     144.000000\n",
       "1              L'viv     141.500000\n",
       "2            Kharkiv     138.500000\n",
       "3              Volyn     136.333333\n",
       "4           Cherkasy     136.000000\n",
       "5               Sumy     136.000000\n",
       "6               Kiev     136.000000\n",
       "7                NaN     135.000000\n",
       "8          Ternopil'     134.600000\n",
       "9     Khmel'nyts'kyy     134.333333\n",
       "10           Poltava     133.750000\n",
       "11  Ivano-Frankivs'k     133.400000\n",
       "12             Rivne     133.000000\n",
       "13          Zhytomyr     132.500000\n",
       "14   Dnipropetrovs'k     132.500000\n",
       "15         Vinnytsya     132.500000\n",
       "16        Kirovohrad     132.250000\n",
       "17           Luhansk     132.000000\n",
       "18           Donetsk     132.000000\n",
       "19      Zaporizhzhya     131.750000\n",
       "20            Odessa     131.666667\n",
       "21           Kherson     131.000000\n",
       "22         Mykolayiv     129.500000\n",
       "23        Chernivtsi     129.000000\n",
       "24    Transcarpathia     125.250000\n",
       "25         Chernihiv       0.000000\n",
       "26          Luhans'k       0.000000\n",
       "27          Donets'k       0.000000\n",
       "28            Crimea       0.000000"
      ],
      "text/html": [
       "<div>\n",
       "<style scoped>\n",
       "    .dataframe tbody tr th:only-of-type {\n",
       "        vertical-align: middle;\n",
       "    }\n",
       "\n",
       "    .dataframe tbody tr th {\n",
       "        vertical-align: top;\n",
       "    }\n",
       "\n",
       "    .dataframe thead th {\n",
       "        text-align: right;\n",
       "    }\n",
       "</style>\n",
       "<table border=\"1\" class=\"dataframe\">\n",
       "  <thead>\n",
       "    <tr style=\"text-align: right;\">\n",
       "      <th></th>\n",
       "      <th>EORegName</th>\n",
       "      <th>Average Score</th>\n",
       "    </tr>\n",
       "  </thead>\n",
       "  <tbody>\n",
       "    <tr>\n",
       "      <th>0</th>\n",
       "      <td>Kiev City</td>\n",
       "      <td>144.000000</td>\n",
       "    </tr>\n",
       "    <tr>\n",
       "      <th>1</th>\n",
       "      <td>L'viv</td>\n",
       "      <td>141.500000</td>\n",
       "    </tr>\n",
       "    <tr>\n",
       "      <th>2</th>\n",
       "      <td>Kharkiv</td>\n",
       "      <td>138.500000</td>\n",
       "    </tr>\n",
       "    <tr>\n",
       "      <th>3</th>\n",
       "      <td>Volyn</td>\n",
       "      <td>136.333333</td>\n",
       "    </tr>\n",
       "    <tr>\n",
       "      <th>4</th>\n",
       "      <td>Cherkasy</td>\n",
       "      <td>136.000000</td>\n",
       "    </tr>\n",
       "    <tr>\n",
       "      <th>5</th>\n",
       "      <td>Sumy</td>\n",
       "      <td>136.000000</td>\n",
       "    </tr>\n",
       "    <tr>\n",
       "      <th>6</th>\n",
       "      <td>Kiev</td>\n",
       "      <td>136.000000</td>\n",
       "    </tr>\n",
       "    <tr>\n",
       "      <th>7</th>\n",
       "      <td>NaN</td>\n",
       "      <td>135.000000</td>\n",
       "    </tr>\n",
       "    <tr>\n",
       "      <th>8</th>\n",
       "      <td>Ternopil'</td>\n",
       "      <td>134.600000</td>\n",
       "    </tr>\n",
       "    <tr>\n",
       "      <th>9</th>\n",
       "      <td>Khmel'nyts'kyy</td>\n",
       "      <td>134.333333</td>\n",
       "    </tr>\n",
       "    <tr>\n",
       "      <th>10</th>\n",
       "      <td>Poltava</td>\n",
       "      <td>133.750000</td>\n",
       "    </tr>\n",
       "    <tr>\n",
       "      <th>11</th>\n",
       "      <td>Ivano-Frankivs'k</td>\n",
       "      <td>133.400000</td>\n",
       "    </tr>\n",
       "    <tr>\n",
       "      <th>12</th>\n",
       "      <td>Rivne</td>\n",
       "      <td>133.000000</td>\n",
       "    </tr>\n",
       "    <tr>\n",
       "      <th>13</th>\n",
       "      <td>Zhytomyr</td>\n",
       "      <td>132.500000</td>\n",
       "    </tr>\n",
       "    <tr>\n",
       "      <th>14</th>\n",
       "      <td>Dnipropetrovs'k</td>\n",
       "      <td>132.500000</td>\n",
       "    </tr>\n",
       "    <tr>\n",
       "      <th>15</th>\n",
       "      <td>Vinnytsya</td>\n",
       "      <td>132.500000</td>\n",
       "    </tr>\n",
       "    <tr>\n",
       "      <th>16</th>\n",
       "      <td>Kirovohrad</td>\n",
       "      <td>132.250000</td>\n",
       "    </tr>\n",
       "    <tr>\n",
       "      <th>17</th>\n",
       "      <td>Luhansk</td>\n",
       "      <td>132.000000</td>\n",
       "    </tr>\n",
       "    <tr>\n",
       "      <th>18</th>\n",
       "      <td>Donetsk</td>\n",
       "      <td>132.000000</td>\n",
       "    </tr>\n",
       "    <tr>\n",
       "      <th>19</th>\n",
       "      <td>Zaporizhzhya</td>\n",
       "      <td>131.750000</td>\n",
       "    </tr>\n",
       "    <tr>\n",
       "      <th>20</th>\n",
       "      <td>Odessa</td>\n",
       "      <td>131.666667</td>\n",
       "    </tr>\n",
       "    <tr>\n",
       "      <th>21</th>\n",
       "      <td>Kherson</td>\n",
       "      <td>131.000000</td>\n",
       "    </tr>\n",
       "    <tr>\n",
       "      <th>22</th>\n",
       "      <td>Mykolayiv</td>\n",
       "      <td>129.500000</td>\n",
       "    </tr>\n",
       "    <tr>\n",
       "      <th>23</th>\n",
       "      <td>Chernivtsi</td>\n",
       "      <td>129.000000</td>\n",
       "    </tr>\n",
       "    <tr>\n",
       "      <th>24</th>\n",
       "      <td>Transcarpathia</td>\n",
       "      <td>125.250000</td>\n",
       "    </tr>\n",
       "    <tr>\n",
       "      <th>25</th>\n",
       "      <td>Chernihiv</td>\n",
       "      <td>0.000000</td>\n",
       "    </tr>\n",
       "    <tr>\n",
       "      <th>26</th>\n",
       "      <td>Luhans'k</td>\n",
       "      <td>0.000000</td>\n",
       "    </tr>\n",
       "    <tr>\n",
       "      <th>27</th>\n",
       "      <td>Donets'k</td>\n",
       "      <td>0.000000</td>\n",
       "    </tr>\n",
       "    <tr>\n",
       "      <th>28</th>\n",
       "      <td>Crimea</td>\n",
       "      <td>0.000000</td>\n",
       "    </tr>\n",
       "  </tbody>\n",
       "</table>\n",
       "</div>"
      ]
     },
     "execution_count": 186,
     "metadata": {},
     "output_type": "execute_result"
    }
   ],
   "execution_count": 186
  },
  {
   "metadata": {},
   "cell_type": "markdown",
   "source": "## NMT results",
   "id": "f9882baa190e0ab6"
  },
  {
   "metadata": {
    "ExecuteTime": {
     "end_time": "2025-06-10T16:49:56.478429Z",
     "start_time": "2025-06-10T16:49:56.476638Z"
    }
   },
   "cell_type": "code",
   "source": "",
   "id": "66f1e49434223757",
   "outputs": [],
   "execution_count": null
  },
  {
   "metadata": {
    "ExecuteTime": {
     "end_time": "2025-06-10T16:49:56.483427Z",
     "start_time": "2025-06-10T16:49:56.482128Z"
    }
   },
   "cell_type": "code",
   "source": "",
   "id": "4f59b513e41c0968",
   "outputs": [],
   "execution_count": null
  },
  {
   "metadata": {
    "ExecuteTime": {
     "end_time": "2025-06-10T16:49:56.490255Z",
     "start_time": "2025-06-10T16:49:56.489055Z"
    }
   },
   "cell_type": "code",
   "source": "",
   "id": "ac6c6093cd960b0e",
   "outputs": [],
   "execution_count": null
  }
 ],
 "metadata": {
  "kernelspec": {
   "display_name": "Python 3",
   "language": "python",
   "name": "python3"
  },
  "language_info": {
   "codemirror_mode": {
    "name": "ipython",
    "version": 2
   },
   "file_extension": ".py",
   "mimetype": "text/x-python",
   "name": "python",
   "nbconvert_exporter": "python",
   "pygments_lexer": "ipython2",
   "version": "2.7.6"
  }
 },
 "nbformat": 4,
 "nbformat_minor": 5
}
