{
 "cells": [
  {
   "metadata": {},
   "cell_type": "markdown",
   "source": "# Visualisatiot of scors in map",
   "id": "e58401a98884c84c"
  },
  {
   "metadata": {},
   "cell_type": "markdown",
   "source": "## EIT results",
   "id": "809e44b0c44c426"
  },
  {
   "cell_type": "code",
   "id": "initial_id",
   "metadata": {
    "collapsed": true,
    "ExecuteTime": {
     "end_time": "2025-06-10T16:31:33.136026Z",
     "start_time": "2025-06-10T16:31:33.133249Z"
    }
   },
   "source": [
    "!pip install altair\n",
    "\n",
    "import altair as alt\n",
    "import pandas as pd\n",
    "import file_processing_EIT\n",
    "\n",
    "alt.data_transformers.enable('default')"
   ],
   "outputs": [
    {
     "data": {
      "text/plain": [
       "DataTransformerRegistry.enable('default')"
      ]
     },
     "execution_count": 133,
     "metadata": {},
     "output_type": "execute_result"
    }
   ],
   "execution_count": 133
  },
  {
   "metadata": {},
   "cell_type": "markdown",
   "source": "Group by EIT preparation region, and sort by descending average score.",
   "id": "2c84fefe23b80212"
  },
  {
   "metadata": {
    "ExecuteTime": {
     "end_time": "2025-06-10T16:31:33.185793Z",
     "start_time": "2025-06-10T16:31:33.149888Z"
    }
   },
   "cell_type": "code",
   "source": [
    "eit = file_processing_EIT.EIT\n",
    "\n",
    "eit_by_region = eit.groupby('EORegName')['Average Score'].mean().reset_index()\n",
    "eit_by_region = eit_by_region.sort_values('Average Score', ascending=False)"
   ],
   "id": "a7f373ad33454fbc",
   "outputs": [],
   "execution_count": 134
  },
  {
   "metadata": {},
   "cell_type": "markdown",
   "source": "We translate the names of the regions into English according to the content of the JSON file describing the map of Ukraine.",
   "id": "8aca0820d30311e0"
  },
  {
   "metadata": {
    "ExecuteTime": {
     "end_time": "2025-06-10T16:31:33.191901Z",
     "start_time": "2025-06-10T16:31:33.189305Z"
    }
   },
   "cell_type": "code",
   "source": [
    "mapping = {\n",
    "    \"Черкаська область\": \"Cherkasy\", \"Чернігівська область \": \"Chernihiv\", \"Чернівецька область\": \"Chernivtsi\",\n",
    "    \"Дніпропетровська область\": \"Dnipropetrovs'k\", \"Донецька область\": \"Donetsk\", \"Івано-Франківська область\": \"Ivano-Frankivs'k\",\n",
    "    \"Харківська область\": \"Kharkiv\", \"Херсонська область\": \"Kherson\", \"Хмельницька область\": \"Khmel'nyts'kyy\",\n",
    "    \"Київська область\": \"Kiev\", \"Кіровоградська область\": \"Kirovohrad\", \"Луганська область\": \"Luhansk\",\n",
    "    \"Львівська область\": \"L'viv\", \"Миколаївська область\": \"Mykolayiv\", \"Одеська область\": \"Odessa\",\n",
    "    \"Полтавська область\": \"Poltava\", \"Рівненська область\": \"Rivne\", \"Сумська область\": \"Sumy\",\n",
    "    \"Тернопільська область\": \"Ternopil'\", \"Вінницька область\": \"Vinnytsya\", \"Волинська область\": \"Volyn\",\n",
    "    \"Закарпатська область\": \"Transcarpathia\", \"Запорізька область\": \"Zaporizhzhya\", \"Житомирська область\": \"Zhytomyr\",\n",
    "    \"м.Київ\" : \"Kiev City\"\n",
    "}\n",
    "\n",
    "eit_by_region['EORegName'] = eit_by_region['EORegName'].map(mapping)"
   ],
   "id": "fa166da22906a0b4",
   "outputs": [],
   "execution_count": 135
  },
  {
   "metadata": {},
   "cell_type": "markdown",
   "source": "Some areas are not in the dataset itself. Therefore, we add them manually and assign a score of 0. (so that they are displayed on the map)",
   "id": "5773ba2ce283ae44"
  },
  {
   "metadata": {
    "ExecuteTime": {
     "end_time": "2025-06-10T16:31:33.196369Z",
     "start_time": "2025-06-10T16:31:33.194021Z"
    }
   },
   "cell_type": "code",
   "source": [
    "missing_regions = ['Chernihiv', \"Luhans'k\", \"Donets'k\", 'Crimea']\n",
    "\n",
    "missing_data = pd.DataFrame({\n",
    "    'EORegName': missing_regions,\n",
    "    'Average Score': 0\n",
    "})\n",
    "\n",
    "eit_by_region = pd.concat([eit_by_region, missing_data], ignore_index=True)"
   ],
   "id": "54afedf2017924c9",
   "outputs": [],
   "execution_count": 136
  },
  {
   "metadata": {},
   "cell_type": "markdown",
   "source": "In the final, we display the results",
   "id": "4c234650aeeac8d8"
  },
  {
   "metadata": {
    "ExecuteTime": {
     "end_time": "2025-06-10T16:31:33.209226Z",
     "start_time": "2025-06-10T16:31:33.198701Z"
    }
   },
   "cell_type": "code",
   "source": [
    "ukraine = alt.topo_feature(\n",
    "    \"https://raw.githubusercontent.com/org-scn-design-studio-community/sdkcommunitymaps/master/geojson/Europe/Ukraine-regions.json\",\n",
    "    'UKR_adm1',)\n",
    "\n",
    "mapa = alt.Chart(ukraine).mark_geoshape().encode(\n",
    "    color='Average Score:Q'\n",
    ").transform_lookup(\n",
    "    lookup='properties.NAME_1',\n",
    "    from_=alt.LookupData(eit_by_region, 'EORegName', ['Average Score'])\n",
    ").properties(\n",
    "    width=800,\n",
    "    height=400\n",
    ")\n",
    "\n",
    "mapa"
   ],
   "id": "60db4e1e90815f8d",
   "outputs": [
    {
     "data": {
      "text/html": [
       "\n",
       "<style>\n",
       "  #altair-viz-9d112400c42d49f2b0371667312e2ae9.vega-embed {\n",
       "    width: 100%;\n",
       "    display: flex;\n",
       "  }\n",
       "\n",
       "  #altair-viz-9d112400c42d49f2b0371667312e2ae9.vega-embed details,\n",
       "  #altair-viz-9d112400c42d49f2b0371667312e2ae9.vega-embed details summary {\n",
       "    position: relative;\n",
       "  }\n",
       "</style>\n",
       "<div id=\"altair-viz-9d112400c42d49f2b0371667312e2ae9\"></div>\n",
       "<script type=\"text/javascript\">\n",
       "  var VEGA_DEBUG = (typeof VEGA_DEBUG == \"undefined\") ? {} : VEGA_DEBUG;\n",
       "  (function(spec, embedOpt){\n",
       "    let outputDiv = document.currentScript.previousElementSibling;\n",
       "    if (outputDiv.id !== \"altair-viz-9d112400c42d49f2b0371667312e2ae9\") {\n",
       "      outputDiv = document.getElementById(\"altair-viz-9d112400c42d49f2b0371667312e2ae9\");\n",
       "    }\n",
       "\n",
       "    const paths = {\n",
       "      \"vega\": \"https://cdn.jsdelivr.net/npm/vega@5?noext\",\n",
       "      \"vega-lib\": \"https://cdn.jsdelivr.net/npm/vega-lib?noext\",\n",
       "      \"vega-lite\": \"https://cdn.jsdelivr.net/npm/vega-lite@5.20.1?noext\",\n",
       "      \"vega-embed\": \"https://cdn.jsdelivr.net/npm/vega-embed@6?noext\",\n",
       "    };\n",
       "\n",
       "    function maybeLoadScript(lib, version) {\n",
       "      var key = `${lib.replace(\"-\", \"\")}_version`;\n",
       "      return (VEGA_DEBUG[key] == version) ?\n",
       "        Promise.resolve(paths[lib]) :\n",
       "        new Promise(function(resolve, reject) {\n",
       "          var s = document.createElement('script');\n",
       "          document.getElementsByTagName(\"head\")[0].appendChild(s);\n",
       "          s.async = true;\n",
       "          s.onload = () => {\n",
       "            VEGA_DEBUG[key] = version;\n",
       "            return resolve(paths[lib]);\n",
       "          };\n",
       "          s.onerror = () => reject(`Error loading script: ${paths[lib]}`);\n",
       "          s.src = paths[lib];\n",
       "        });\n",
       "    }\n",
       "\n",
       "    function showError(err) {\n",
       "      outputDiv.innerHTML = `<div class=\"error\" style=\"color:red;\">${err}</div>`;\n",
       "      throw err;\n",
       "    }\n",
       "\n",
       "    function displayChart(vegaEmbed) {\n",
       "      vegaEmbed(outputDiv, spec, embedOpt)\n",
       "        .catch(err => showError(`Javascript Error: ${err.message}<br>This usually means there's a typo in your chart specification. See the javascript console for the full traceback.`));\n",
       "    }\n",
       "\n",
       "    if(typeof define === \"function\" && define.amd) {\n",
       "      requirejs.config({paths});\n",
       "      let deps = [\"vega-embed\"];\n",
       "      require(deps, displayChart, err => showError(`Error loading script: ${err.message}`));\n",
       "    } else {\n",
       "      maybeLoadScript(\"vega\", \"5\")\n",
       "        .then(() => maybeLoadScript(\"vega-lite\", \"5.20.1\"))\n",
       "        .then(() => maybeLoadScript(\"vega-embed\", \"6\"))\n",
       "        .catch(showError)\n",
       "        .then(() => displayChart(vegaEmbed));\n",
       "    }\n",
       "  })({\"config\": {\"view\": {\"continuousWidth\": 300, \"continuousHeight\": 300}}, \"data\": {\"url\": \"https://raw.githubusercontent.com/org-scn-design-studio-community/sdkcommunitymaps/master/geojson/Europe/Ukraine-regions.json\", \"format\": {\"feature\": \"UKR_adm1\", \"type\": \"topojson\"}}, \"mark\": {\"type\": \"geoshape\"}, \"encoding\": {\"color\": {\"field\": \"Average Score\", \"type\": \"quantitative\"}}, \"height\": 400, \"transform\": [{\"lookup\": \"properties.NAME_1\", \"from\": {\"data\": {\"name\": \"data-832049713b106ff6deb61dafe497592c\"}, \"key\": \"EORegName\", \"fields\": [\"Average Score\"]}}], \"width\": 800, \"$schema\": \"https://vega.github.io/schema/vega-lite/v5.20.1.json\", \"datasets\": {\"data-832049713b106ff6deb61dafe497592c\": [{\"EORegName\": \"Kiev City\", \"Average Score\": 145.53400295724504}, {\"EORegName\": \"L'viv\", \"Average Score\": 143.14219402736356}, {\"EORegName\": \"Kharkiv\", \"Average Score\": 140.78868032645707}, {\"EORegName\": \"Volyn\", \"Average Score\": 139.0624449977604}, {\"EORegName\": \"Kiev\", \"Average Score\": 138.88980741405976}, {\"EORegName\": \"Cherkasy\", \"Average Score\": 138.78769451360483}, {\"EORegName\": \"Sumy\", \"Average Score\": 138.6008066168186}, {\"EORegName\": null, \"Average Score\": 138.05804432570488}, {\"EORegName\": \"Ternopil'\", \"Average Score\": 137.8332390313896}, {\"EORegName\": \"Khmel'nyts'kyy\", \"Average Score\": 137.59558186407475}, {\"EORegName\": \"Poltava\", \"Average Score\": 137.27683892766146}, {\"EORegName\": \"Ivano-Frankivs'k\", \"Average Score\": 137.12526053896903}, {\"EORegName\": \"Rivne\", \"Average Score\": 136.89645548108004}, {\"EORegName\": \"Vinnytsya\", \"Average Score\": 136.1355254979726}, {\"EORegName\": \"Zhytomyr\", \"Average Score\": 136.09159298166063}, {\"EORegName\": \"Dnipropetrovs'k\", \"Average Score\": 136.00175416248487}, {\"EORegName\": \"Kirovohrad\", \"Average Score\": 136.0002991754314}, {\"EORegName\": \"Donetsk\", \"Average Score\": 135.86038473769517}, {\"EORegName\": \"Zaporizhzhya\", \"Average Score\": 135.58815416691604}, {\"EORegName\": \"Odessa\", \"Average Score\": 135.45083848995537}, {\"EORegName\": \"Luhansk\", \"Average Score\": 135.27276524473612}, {\"EORegName\": \"Kherson\", \"Average Score\": 134.89369243186783}, {\"EORegName\": \"Mykolayiv\", \"Average Score\": 133.95361267278523}, {\"EORegName\": \"Chernivtsi\", \"Average Score\": 133.75308079948564}, {\"EORegName\": \"Transcarpathia\", \"Average Score\": 130.62812258667643}, {\"EORegName\": \"Chernihiv\", \"Average Score\": 0.0}, {\"EORegName\": \"Luhans'k\", \"Average Score\": 0.0}, {\"EORegName\": \"Donets'k\", \"Average Score\": 0.0}, {\"EORegName\": \"Crimea\", \"Average Score\": 0.0}]}}, {\"mode\": \"vega-lite\"});\n",
       "</script>"
      ],
      "text/plain": [
       "alt.Chart(...)"
      ]
     },
     "execution_count": 137,
     "metadata": {},
     "output_type": "execute_result"
    }
   ],
   "execution_count": 137
  },
  {
   "metadata": {
    "ExecuteTime": {
     "end_time": "2025-06-10T16:31:33.220057Z",
     "start_time": "2025-06-10T16:31:33.214567Z"
    }
   },
   "cell_type": "code",
   "source": "eit_by_region",
   "id": "4f81aa62f87374c5",
   "outputs": [
    {
     "data": {
      "text/plain": [
       "           EORegName  Average Score\n",
       "0          Kiev City     145.534003\n",
       "1              L'viv     143.142194\n",
       "2            Kharkiv     140.788680\n",
       "3              Volyn     139.062445\n",
       "4               Kiev     138.889807\n",
       "5           Cherkasy     138.787695\n",
       "6               Sumy     138.600807\n",
       "7                NaN     138.058044\n",
       "8          Ternopil'     137.833239\n",
       "9     Khmel'nyts'kyy     137.595582\n",
       "10           Poltava     137.276839\n",
       "11  Ivano-Frankivs'k     137.125261\n",
       "12             Rivne     136.896455\n",
       "13         Vinnytsya     136.135525\n",
       "14          Zhytomyr     136.091593\n",
       "15   Dnipropetrovs'k     136.001754\n",
       "16        Kirovohrad     136.000299\n",
       "17           Donetsk     135.860385\n",
       "18      Zaporizhzhya     135.588154\n",
       "19            Odessa     135.450838\n",
       "20           Luhansk     135.272765\n",
       "21           Kherson     134.893692\n",
       "22         Mykolayiv     133.953613\n",
       "23        Chernivtsi     133.753081\n",
       "24    Transcarpathia     130.628123\n",
       "25         Chernihiv       0.000000\n",
       "26          Luhans'k       0.000000\n",
       "27          Donets'k       0.000000\n",
       "28            Crimea       0.000000"
      ],
      "text/html": [
       "<div>\n",
       "<style scoped>\n",
       "    .dataframe tbody tr th:only-of-type {\n",
       "        vertical-align: middle;\n",
       "    }\n",
       "\n",
       "    .dataframe tbody tr th {\n",
       "        vertical-align: top;\n",
       "    }\n",
       "\n",
       "    .dataframe thead th {\n",
       "        text-align: right;\n",
       "    }\n",
       "</style>\n",
       "<table border=\"1\" class=\"dataframe\">\n",
       "  <thead>\n",
       "    <tr style=\"text-align: right;\">\n",
       "      <th></th>\n",
       "      <th>EORegName</th>\n",
       "      <th>Average Score</th>\n",
       "    </tr>\n",
       "  </thead>\n",
       "  <tbody>\n",
       "    <tr>\n",
       "      <th>0</th>\n",
       "      <td>Kiev City</td>\n",
       "      <td>145.534003</td>\n",
       "    </tr>\n",
       "    <tr>\n",
       "      <th>1</th>\n",
       "      <td>L'viv</td>\n",
       "      <td>143.142194</td>\n",
       "    </tr>\n",
       "    <tr>\n",
       "      <th>2</th>\n",
       "      <td>Kharkiv</td>\n",
       "      <td>140.788680</td>\n",
       "    </tr>\n",
       "    <tr>\n",
       "      <th>3</th>\n",
       "      <td>Volyn</td>\n",
       "      <td>139.062445</td>\n",
       "    </tr>\n",
       "    <tr>\n",
       "      <th>4</th>\n",
       "      <td>Kiev</td>\n",
       "      <td>138.889807</td>\n",
       "    </tr>\n",
       "    <tr>\n",
       "      <th>5</th>\n",
       "      <td>Cherkasy</td>\n",
       "      <td>138.787695</td>\n",
       "    </tr>\n",
       "    <tr>\n",
       "      <th>6</th>\n",
       "      <td>Sumy</td>\n",
       "      <td>138.600807</td>\n",
       "    </tr>\n",
       "    <tr>\n",
       "      <th>7</th>\n",
       "      <td>NaN</td>\n",
       "      <td>138.058044</td>\n",
       "    </tr>\n",
       "    <tr>\n",
       "      <th>8</th>\n",
       "      <td>Ternopil'</td>\n",
       "      <td>137.833239</td>\n",
       "    </tr>\n",
       "    <tr>\n",
       "      <th>9</th>\n",
       "      <td>Khmel'nyts'kyy</td>\n",
       "      <td>137.595582</td>\n",
       "    </tr>\n",
       "    <tr>\n",
       "      <th>10</th>\n",
       "      <td>Poltava</td>\n",
       "      <td>137.276839</td>\n",
       "    </tr>\n",
       "    <tr>\n",
       "      <th>11</th>\n",
       "      <td>Ivano-Frankivs'k</td>\n",
       "      <td>137.125261</td>\n",
       "    </tr>\n",
       "    <tr>\n",
       "      <th>12</th>\n",
       "      <td>Rivne</td>\n",
       "      <td>136.896455</td>\n",
       "    </tr>\n",
       "    <tr>\n",
       "      <th>13</th>\n",
       "      <td>Vinnytsya</td>\n",
       "      <td>136.135525</td>\n",
       "    </tr>\n",
       "    <tr>\n",
       "      <th>14</th>\n",
       "      <td>Zhytomyr</td>\n",
       "      <td>136.091593</td>\n",
       "    </tr>\n",
       "    <tr>\n",
       "      <th>15</th>\n",
       "      <td>Dnipropetrovs'k</td>\n",
       "      <td>136.001754</td>\n",
       "    </tr>\n",
       "    <tr>\n",
       "      <th>16</th>\n",
       "      <td>Kirovohrad</td>\n",
       "      <td>136.000299</td>\n",
       "    </tr>\n",
       "    <tr>\n",
       "      <th>17</th>\n",
       "      <td>Donetsk</td>\n",
       "      <td>135.860385</td>\n",
       "    </tr>\n",
       "    <tr>\n",
       "      <th>18</th>\n",
       "      <td>Zaporizhzhya</td>\n",
       "      <td>135.588154</td>\n",
       "    </tr>\n",
       "    <tr>\n",
       "      <th>19</th>\n",
       "      <td>Odessa</td>\n",
       "      <td>135.450838</td>\n",
       "    </tr>\n",
       "    <tr>\n",
       "      <th>20</th>\n",
       "      <td>Luhansk</td>\n",
       "      <td>135.272765</td>\n",
       "    </tr>\n",
       "    <tr>\n",
       "      <th>21</th>\n",
       "      <td>Kherson</td>\n",
       "      <td>134.893692</td>\n",
       "    </tr>\n",
       "    <tr>\n",
       "      <th>22</th>\n",
       "      <td>Mykolayiv</td>\n",
       "      <td>133.953613</td>\n",
       "    </tr>\n",
       "    <tr>\n",
       "      <th>23</th>\n",
       "      <td>Chernivtsi</td>\n",
       "      <td>133.753081</td>\n",
       "    </tr>\n",
       "    <tr>\n",
       "      <th>24</th>\n",
       "      <td>Transcarpathia</td>\n",
       "      <td>130.628123</td>\n",
       "    </tr>\n",
       "    <tr>\n",
       "      <th>25</th>\n",
       "      <td>Chernihiv</td>\n",
       "      <td>0.000000</td>\n",
       "    </tr>\n",
       "    <tr>\n",
       "      <th>26</th>\n",
       "      <td>Luhans'k</td>\n",
       "      <td>0.000000</td>\n",
       "    </tr>\n",
       "    <tr>\n",
       "      <th>27</th>\n",
       "      <td>Donets'k</td>\n",
       "      <td>0.000000</td>\n",
       "    </tr>\n",
       "    <tr>\n",
       "      <th>28</th>\n",
       "      <td>Crimea</td>\n",
       "      <td>0.000000</td>\n",
       "    </tr>\n",
       "  </tbody>\n",
       "</table>\n",
       "</div>"
      ]
     },
     "execution_count": 138,
     "metadata": {},
     "output_type": "execute_result"
    }
   ],
   "execution_count": 138
  },
  {
   "metadata": {},
   "cell_type": "markdown",
   "source": "## NMT results",
   "id": "f9882baa190e0ab6"
  },
  {
   "metadata": {
    "ExecuteTime": {
     "end_time": "2025-06-10T16:31:33.237302Z",
     "start_time": "2025-06-10T16:31:33.234656Z"
    }
   },
   "cell_type": "code",
   "source": "",
   "id": "66f1e49434223757",
   "outputs": [],
   "execution_count": null
  },
  {
   "metadata": {
    "ExecuteTime": {
     "end_time": "2025-06-10T16:31:33.242009Z",
     "start_time": "2025-06-10T16:31:33.240577Z"
    }
   },
   "cell_type": "code",
   "source": "",
   "id": "4f59b513e41c0968",
   "outputs": [],
   "execution_count": null
  },
  {
   "metadata": {
    "ExecuteTime": {
     "end_time": "2025-06-10T16:31:33.252995Z",
     "start_time": "2025-06-10T16:31:33.251479Z"
    }
   },
   "cell_type": "code",
   "source": "",
   "id": "ac6c6093cd960b0e",
   "outputs": [],
   "execution_count": null
  }
 ],
 "metadata": {
  "kernelspec": {
   "display_name": "Python 3",
   "language": "python",
   "name": "python3"
  },
  "language_info": {
   "codemirror_mode": {
    "name": "ipython",
    "version": 2
   },
   "file_extension": ".py",
   "mimetype": "text/x-python",
   "name": "python",
   "nbconvert_exporter": "python",
   "pygments_lexer": "ipython2",
   "version": "2.7.6"
  }
 },
 "nbformat": 4,
 "nbformat_minor": 5
}
