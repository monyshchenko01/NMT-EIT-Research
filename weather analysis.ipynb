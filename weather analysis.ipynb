{
 "cells": [
  {
   "cell_type": "code",
   "execution_count": 15,
   "id": "initial_id",
   "metadata": {
    "collapsed": true,
    "ExecuteTime": {
     "end_time": "2025-06-14T13:31:36.931590Z",
     "start_time": "2025-06-14T13:31:15.114397Z"
    }
   },
   "outputs": [
    {
     "name": "stderr",
     "output_type": "stream",
     "text": [
      "/var/folders/5r/4d3mqngx3c3bynq7lh4_h3tr0000gn/T/ipykernel_44794/206837318.py:23: DtypeWarning: Columns (96,97,100,102,103,104,105,116,117,120,122,123,124,125) have mixed types. Specify dtype option on import or set low_memory=False.\n",
      "  df = pd.read_csv(file_path)\n"
     ]
    },
    {
     "name": "stdout",
     "output_type": "stream",
     "text": [
      "Попередження: У файлі 2020.csv відсутня колонка test_date\n"
     ]
    },
    {
     "name": "stderr",
     "output_type": "stream",
     "text": [
      "/var/folders/5r/4d3mqngx3c3bynq7lh4_h3tr0000gn/T/ipykernel_44794/206837318.py:23: DtypeWarning: Columns (117,118,121,123,124,125,126,137,138,141,143,144,145,146) have mixed types. Specify dtype option on import or set low_memory=False.\n",
      "  df = pd.read_csv(file_path)\n"
     ]
    },
    {
     "name": "stdout",
     "output_type": "stream",
     "text": [
      "Попередження: У файлі 2021.csv відсутня колонка test_date\n"
     ]
    },
    {
     "name": "stderr",
     "output_type": "stream",
     "text": [
      "/var/folders/5r/4d3mqngx3c3bynq7lh4_h3tr0000gn/T/ipykernel_44794/206837318.py:23: DtypeWarning: Columns (8,9,10,11,12,13) have mixed types. Specify dtype option on import or set low_memory=False.\n",
      "  df = pd.read_csv(file_path)\n",
      "/var/folders/5r/4d3mqngx3c3bynq7lh4_h3tr0000gn/T/ipykernel_44794/206837318.py:23: DtypeWarning: Columns (100,116,117,120,122,123,124,125) have mixed types. Specify dtype option on import or set low_memory=False.\n",
      "  df = pd.read_csv(file_path)\n"
     ]
    },
    {
     "name": "stdout",
     "output_type": "stream",
     "text": [
      "Попередження: У файлі 2019.csv відсутня колонка test_date\n",
      "Успіх: Унікальні значення test_date збережено у weather.csv\n",
      "Кількість унікальних дат: 46\n"
     ]
    }
   ],
   "source": [
    "import os\n",
    "import pandas as pd\n",
    "\n",
    "# Шлях до папки з CSV-файлами\n",
    "input_dir = \"filtered_data\"\n",
    "# Шлях до вихідного файлу\n",
    "output_file = \"weather.csv\"\n",
    "\n",
    "# Перевірка існування папки\n",
    "if not os.path.exists(input_dir):\n",
    "    print(f\"Помилка: Папка {input_dir} не існує\")\n",
    "    exit(1)\n",
    "\n",
    "# Список для зберігання унікальних значень test_date\n",
    "unique_dates = set()\n",
    "\n",
    "# Проходимо по всіх файлах у папці\n",
    "for filename in os.listdir(input_dir):\n",
    "    if filename.endswith(\".csv\"):\n",
    "        file_path = os.path.join(input_dir, filename)\n",
    "        try:\n",
    "            # Читаємо CSV-файл\n",
    "            df = pd.read_csv(file_path)\n",
    "            # Перевіряємо наявність колонки test_date\n",
    "            if \"test_date\" in df.columns:\n",
    "                # Витягуємо унікальні значення test_date і додаємо до множини\n",
    "                unique_dates.update(df[\"test_date\"].dropna().unique())\n",
    "            else:\n",
    "                print(f\"Попередження: У файлі {filename} відсутня колонка test_date\")\n",
    "        except Exception as e:\n",
    "            print(f\"Помилка при обробці файлу {filename}: {str(e)}\")\n",
    "\n",
    "# Якщо не знайдено жодних дат\n",
    "if not unique_dates:\n",
    "    print(\"Помилка: Не знайдено унікальних значень у колонці test_date\")\n",
    "    exit(1)\n",
    "\n",
    "# Створюємо DataFrame з унікальними датами\n",
    "result_df = pd.DataFrame(sorted(unique_dates), columns=[\"test_date\"])\n",
    "\n",
    "# Зберігаємо результат у CSV-файл\n",
    "try:\n",
    "    result_df.to_csv(output_file, index=False)\n",
    "    print(f\"Успіх: Унікальні значення test_date збережено у {output_file}\")\n",
    "    print(f\"Кількість унікальних дат: {len(unique_dates)}\")\n",
    "except Exception as e:\n",
    "    print(f\"Помилка при збереженні файлу {output_file}: {str(e)}\")"
   ]
  },
  {
   "cell_type": "code",
   "execution_count": 16,
   "outputs": [
    {
     "name": "stdout",
     "output_type": "stream",
     "text": [
      "Помилка при запиті для дати 2024-06-07: ('Connection aborted.', TimeoutError(60, 'Operation timed out'))\n",
      "Успіх: Погодні дані для Kyiv збережено у weather_data.csv\n",
      "Кількість записів: 1080\n"
     ]
    }
   ],
   "source": [
    "import pandas as pd\n",
    "import requests\n",
    "import os\n",
    "from datetime import datetime\n",
    "\n",
    "# Шлях до файлу з датами\n",
    "input_file = \"weather.csv\"\n",
    "# Шлях до вихідного файлу з погодними даними\n",
    "output_file = \"weather_data.csv\"\n",
    "\n",
    "# Координати для Києва (зміни на потрібне місто в Україні)\n",
    "city = \"Kyiv\"\n",
    "latitude = 50.4501  # Широта Києва\n",
    "longitude = 30.5234  # Довгота Києва\n",
    "\n",
    "# Словник із координатами інших міст України (для зручності)\n",
    "ukraine_cities = {\n",
    "    \"Kyiv\": (50.4501, 30.5234),\n",
    "    \"Lviv\": (49.8397, 24.0297),\n",
    "    \"Odesa\": (46.4825, 30.7233),\n",
    "    \"Kharkiv\": (49.9935, 36.2304),\n",
    "    \"Dnipro\": (48.4647, 35.0462),\n",
    "    \"Zaporizhzhia\": (47.8388, 35.1396)\n",
    "}\n",
    "\n",
    "# Вибір координат для міста\n",
    "if city in ukraine_cities:\n",
    "    latitude, longitude = ukraine_cities[city]\n",
    "else:\n",
    "    print(f\"Помилка: Місто {city} не знайдено. Використовуйте одне з: {list(ukraine_cities.keys())}\")\n",
    "    exit(1)\n",
    "\n",
    "# Перевірка існування файлу weather.csv\n",
    "if not os.path.exists(input_file):\n",
    "    print(f\"Помилка: Файл {input_file} не існує\")\n",
    "    exit(1)\n",
    "\n",
    "# Читання дат із weather.csv\n",
    "try:\n",
    "    df_dates = pd.read_csv(input_file)\n",
    "    if \"test_date\" not in df_dates.columns:\n",
    "        print(f\"Помилка: Колонка test_date відсутня у файлі {input_file}\")\n",
    "        exit(1)\n",
    "    dates = df_dates[\"test_date\"].unique()\n",
    "except Exception as e:\n",
    "    print(f\"Помилка при читанні файлу {input_file}: {str(e)}\")\n",
    "    exit(1)\n",
    "\n",
    "# Список для зберігання погодних даних\n",
    "weather_data = []\n",
    "\n",
    "# Базовий URL для Open-Meteo Historical Weather API\n",
    "base_url = \"https://archive-api.open-meteo.com/v1/archive\"\n",
    "\n",
    "# Проходимо по кожній даті\n",
    "for date in dates:\n",
    "    try:\n",
    "        # Перевірка формату дати\n",
    "        datetime.strptime(date, \"%Y-%m-%d\")\n",
    "        # Параметри запиту\n",
    "        params = {\n",
    "            \"latitude\": latitude,\n",
    "            \"longitude\": longitude,\n",
    "            \"start_date\": date,\n",
    "            \"end_date\": date,\n",
    "            \"hourly\": \"temperature_2m,precipitation,cloudcover,wind_speed_10m,relative_humidity_2m\",\n",
    "            \"timezone\": \"Europe/Kiev\"\n",
    "        }\n",
    "        # Надсилання запиту до API\n",
    "        response = requests.get(base_url, params=params)\n",
    "        response.raise_for_status()  # Перевірка на помилки HTTP\n",
    "        data = response.json()\n",
    "\n",
    "        # Витягуємо погодні дані\n",
    "        if \"hourly\" in data:\n",
    "            hourly_data = data[\"hourly\"]\n",
    "            for time, temp, precip, cloud, wind, humidity in zip(\n",
    "                hourly_data[\"time\"],\n",
    "                hourly_data[\"temperature_2m\"],\n",
    "                hourly_data[\"precipitation\"],\n",
    "                hourly_data[\"cloudcover\"],\n",
    "                hourly_data[\"wind_speed_10m\"],\n",
    "                hourly_data[\"relative_humidity_2m\"]\n",
    "            ):\n",
    "                # Час у локальному форматі\n",
    "                time_local = datetime.strptime(time, \"%Y-%m-%dT%H:%M\")\n",
    "                # Опис погоди на основі опадів і хмарності\n",
    "                weather_desc = \"Sunny\" if cloud < 20 and precip == 0 else \\\n",
    "                              \"Cloudy\" if cloud < 80 and precip == 0 else \\\n",
    "                              \"Rainy\" if precip > 0 else \"Overcast\"\n",
    "                weather_data.append({\n",
    "                    \"city\": city,\n",
    "                    \"date\": date,\n",
    "                    \"time\": time_local.strftime(\"%H:%M\"),\n",
    "                    \"temperature_c\": temp,\n",
    "                    \"precipitation_mm\": precip,\n",
    "                    \"cloudcover_percent\": cloud,\n",
    "                    \"wind_speed_kmh\": wind,\n",
    "                    \"relative_humidity_percent\": humidity,\n",
    "                    \"weather_description\": weather_desc\n",
    "                })\n",
    "        else:\n",
    "            print(f\"Попередження: Дані для дати {date} у місті {city} відсутні\")\n",
    "    except ValueError:\n",
    "        print(f\"Попередження: Некоректний формат дати {date}, пропускаємо\")\n",
    "    except requests.RequestException as e:\n",
    "        print(f\"Помилка при запиті для дати {date}: {str(e)}\")\n",
    "    except Exception as e:\n",
    "        print(f\"Інша помилка для дати {date}: {str(e)}\")\n",
    "\n",
    "# Створюємо DataFrame із погодними даними\n",
    "if weather_data:\n",
    "    result_df = pd.DataFrame(weather_data)\n",
    "    # Зберігаємо у CSV\n",
    "    try:\n",
    "        result_df.to_csv(output_file, index=False)\n",
    "        print(f\"Успіх: Погодні дані для {city} збережено у {output_file}\")\n",
    "        print(f\"Кількість записів: {len(result_df)}\")\n",
    "    except Exception as e:\n",
    "        print(f\"Помилка при збереженні файлу {output_file}: {str(e)}\")\n",
    "else:\n",
    "    print(f\"Помилка: Не вдалося отримати погодних даних для {city}\")"
   ],
   "metadata": {
    "collapsed": false,
    "ExecuteTime": {
     "end_time": "2025-06-14T13:34:51.150381Z",
     "start_time": "2025-06-14T13:31:36.942654Z"
    }
   },
   "id": "73d2bcfc61490f7c"
  },
  {
   "cell_type": "code",
   "execution_count": 17,
   "outputs": [
    {
     "name": "stdout",
     "output_type": "stream",
     "text": [
      "Успіх: Загальні ідентифікатори погоди збережено у daily_weather.csv\n",
      "Кількість записів: 45\n"
     ]
    }
   ],
   "source": [
    "import pandas as pd\n",
    "import os\n",
    "\n",
    "def get_daily_weather_id(input_file=\"weather_data.csv\", output_file=\"daily_weather.csv\"):\n",
    "    \"\"\"\n",
    "    Функція витягує загальний ідентифікатор погоди за день із погодинних даних.\n",
    "    \n",
    "    Параметри:\n",
    "        input_file (str): Шлях до вхідного файлу (weather_data.csv).\n",
    "        output_file (str): Шлях до вихідного файлу (daily_weather.csv).\n",
    "    \n",
    "    Повертає:\n",
    "        None (зберігає результат у CSV).\n",
    "    \"\"\"\n",
    "    # Перевірка існування файлу\n",
    "    if not os.path.exists(input_file):\n",
    "        print(f\"Помилка: Файл {input_file} не існує\")\n",
    "        return\n",
    "\n",
    "    # Читання даних\n",
    "    try:\n",
    "        df = pd.read_csv(input_file)\n",
    "        required_columns = [\"city\", \"date\", \"weather_description\"]\n",
    "        if not all(col in df.columns for col in required_columns):\n",
    "            print(f\"Помилка: У файлі {input_file} відсутні необхідні колонки: {required_columns}\")\n",
    "            return\n",
    "    except Exception as e:\n",
    "        print(f\"Помилка при читанні файлу {input_file}: {str(e)}\")\n",
    "        return\n",
    "\n",
    "    # Групування за містом і датою, вибір найпоширенішого weather_description\n",
    "    try:\n",
    "        daily_weather = df.groupby([\"city\", \"date\"])[\"weather_description\"].agg(lambda x: x.mode()[0]).reset_index()\n",
    "        daily_weather = daily_weather.rename(columns={\"weather_description\": \"weather_id\"})\n",
    "\n",
    "        # Збереження результату\n",
    "        daily_weather.to_csv(output_file, index=False)\n",
    "        print(f\"Успіх: Загальні ідентифікатори погоди збережено у {output_file}\")\n",
    "        print(f\"Кількість записів: {len(daily_weather)}\")\n",
    "    except Exception as e:\n",
    "        print(f\"Помилка при обробці або збереженні даних: {str(e)}\")\n",
    "\n",
    "# Виклик функції\n",
    "if __name__ == \"__main__\":\n",
    "    get_daily_weather_id()"
   ],
   "metadata": {
    "collapsed": false,
    "ExecuteTime": {
     "end_time": "2025-06-14T13:34:51.263147Z",
     "start_time": "2025-06-14T13:34:51.173124Z"
    }
   },
   "id": "86bf294782619a0b"
  },
  {
   "cell_type": "code",
   "execution_count": 18,
   "outputs": [
    {
     "name": "stderr",
     "output_type": "stream",
     "text": [
      "/var/folders/5r/4d3mqngx3c3bynq7lh4_h3tr0000gn/T/ipykernel_44794/4238914256.py:47: DtypeWarning: Columns (96,97,100,102,103,104,105,116,117,120,122,123,124,125) have mixed types. Specify dtype option on import or set low_memory=False.\n",
      "  df = pd.read_csv(file_path)\n"
     ]
    },
    {
     "name": "stdout",
     "output_type": "stream",
     "text": [
      "Попередження: У файлі 2020.csv відсутня колонка test_date, пропускаємо\n"
     ]
    },
    {
     "name": "stderr",
     "output_type": "stream",
     "text": [
      "/var/folders/5r/4d3mqngx3c3bynq7lh4_h3tr0000gn/T/ipykernel_44794/4238914256.py:47: DtypeWarning: Columns (117,118,121,123,124,125,126,137,138,141,143,144,145,146) have mixed types. Specify dtype option on import or set low_memory=False.\n",
      "  df = pd.read_csv(file_path)\n"
     ]
    },
    {
     "name": "stdout",
     "output_type": "stream",
     "text": [
      "Попередження: У файлі 2021.csv відсутня колонка test_date, пропускаємо\n",
      "Оброблено файл: 2023.csv\n"
     ]
    },
    {
     "name": "stderr",
     "output_type": "stream",
     "text": [
      "/var/folders/5r/4d3mqngx3c3bynq7lh4_h3tr0000gn/T/ipykernel_44794/4238914256.py:47: DtypeWarning: Columns (8,9,10,11,12,13) have mixed types. Specify dtype option on import or set low_memory=False.\n",
      "  df = pd.read_csv(file_path)\n"
     ]
    },
    {
     "name": "stdout",
     "output_type": "stream",
     "text": [
      "Оброблено файл: 2022.csv\n"
     ]
    },
    {
     "name": "stderr",
     "output_type": "stream",
     "text": [
      "/var/folders/5r/4d3mqngx3c3bynq7lh4_h3tr0000gn/T/ipykernel_44794/4238914256.py:47: DtypeWarning: Columns (100,116,117,120,122,123,124,125) have mixed types. Specify dtype option on import or set low_memory=False.\n",
      "  df = pd.read_csv(file_path)\n"
     ]
    },
    {
     "name": "stdout",
     "output_type": "stream",
     "text": [
      "Попередження: У файлі 2019.csv відсутня колонка test_date, пропускаємо\n",
      "Попередження: У файлі 2024.csv не знайдено weather_id для дат: ['2024-06-07']\n",
      "Оброблено файл: 2024.csv\n",
      "Успіх: Оброблено 3 файлів у папці filtered_data\n"
     ]
    }
   ],
   "source": [
    "import pandas as pd\n",
    "import os\n",
    "\n",
    "def add_weather_id_to_transformed_data(daily_weather_file=\"daily_weather.csv\", input_dir=\"filtered_data\"):\n",
    "    \"\"\"\n",
    "    Додає стовпець weather_id до всіх CSV-файлів у папці transformed_data на основі дат із daily_weather.csv.\n",
    "    \n",
    "    Параметри:\n",
    "        daily_weather_file (str): Шлях до файлу з ідентифікаторами погоди (daily_weather.csv).\n",
    "        input_dir (str): Папка з CSV-файлами (transformed_data).\n",
    "    \n",
    "    Повертає:\n",
    "        None (оновлює файли в input_dir).\n",
    "    \"\"\"\n",
    "    # Перевірка існування daily_weather.csv\n",
    "    if not os.path.exists(daily_weather_file):\n",
    "        print(f\"Помилка: Файл {daily_weather_file} не існує\")\n",
    "        return\n",
    "\n",
    "    # Читання daily_weather.csv\n",
    "    try:\n",
    "        df_weather = pd.read_csv(daily_weather_file)\n",
    "        required_columns = [\"date\", \"weather_id\"]\n",
    "        if not all(col in df_weather.columns for col in required_columns):\n",
    "            print(f\"Помилка: У файлі {daily_weather_file} відсутні необхідні колонки: {required_columns}\")\n",
    "            return\n",
    "        # Створюємо словник {date: weather_id}\n",
    "        weather_dict = dict(zip(df_weather[\"date\"], df_weather[\"weather_id\"]))\n",
    "    except Exception as e:\n",
    "        print(f\"Помилка при читанні файлу {daily_weather_file}: {str(e)}\")\n",
    "        return\n",
    "\n",
    "    # Перевірка існування папки transformed_data\n",
    "    if not os.path.exists(input_dir):\n",
    "        print(f\"Помилка: Папка {input_dir} не існує\")\n",
    "        return\n",
    "\n",
    "    # Лічильник оброблених файлів\n",
    "    processed_files = 0\n",
    "\n",
    "    # Проходимо по всіх CSV-файлах у папці\n",
    "    for filename in os.listdir(input_dir):\n",
    "        if filename.endswith(\".csv\"):\n",
    "            file_path = os.path.join(input_dir, filename)\n",
    "            try:\n",
    "                # Читаємо CSV-файл\n",
    "                df = pd.read_csv(file_path)\n",
    "                # Перевіряємо наявність колонки test_date\n",
    "                if \"test_date\" not in df.columns:\n",
    "                    print(f\"Попередження: У файлі {filename} відсутня колонка test_date, пропускаємо\")\n",
    "                    continue\n",
    "\n",
    "                # Додаємо стовпець weather_id\n",
    "                df[\"weather_id\"] = df[\"test_date\"].map(weather_dict)\n",
    "\n",
    "                # Перевіряємо, чи всі дати мають weather_id\n",
    "                if df[\"weather_id\"].isna().any():\n",
    "                    missing_dates = df[df[\"weather_id\"].isna()][\"test_date\"].unique()\n",
    "                    print(f\"Попередження: У файлі {filename} не знайдено weather_id для дат: {missing_dates}\")\n",
    "\n",
    "                # Зберігаємо оновлений файл\n",
    "                df.to_csv(file_path, index=False)\n",
    "                processed_files += 1\n",
    "                print(f\"Оброблено файл: {filename}\")\n",
    "            except Exception as e:\n",
    "                print(f\"Помилка при обробці файлу {filename}: {str(e)}\")\n",
    "\n",
    "    if processed_files == 0:\n",
    "        print(\"Помилка: Жоден CSV-файл не було оброблено\")\n",
    "    else:\n",
    "        print(f\"Успіх: Оброблено {processed_files} файлів у папці {input_dir}\")\n",
    "\n",
    "# Виклик функції\n",
    "if __name__ == \"__main__\":\n",
    "    add_weather_id_to_transformed_data()"
   ],
   "metadata": {
    "collapsed": false,
    "ExecuteTime": {
     "end_time": "2025-06-14T13:35:22.143248Z",
     "start_time": "2025-06-14T13:34:51.272698Z"
    }
   },
   "id": "e03a8d401c10f853"
  },
  {
   "cell_type": "code",
   "execution_count": 19,
   "outputs": [
    {
     "name": "stderr",
     "output_type": "stream",
     "text": [
      "/var/folders/5r/4d3mqngx3c3bynq7lh4_h3tr0000gn/T/ipykernel_44794/1078033183.py:1: DtypeWarning: Columns (117,118,121,123,124,125,126,137,138,141,143,144,145,146) have mixed types. Specify dtype option on import or set low_memory=False.\n",
      "  df = pd.read_csv(\"transformed_data/2021.csv\")\n"
     ]
    },
    {
     "data": {
      "text/plain": "                                          id  birth_year    gender  \\\n0       8a2abef7-625a-4253-8c14-000fe8a856e5        2003  чоловіча   \n1       3e975d01-9cc9-4072-bbcd-005b9da75096        2003  чоловіча   \n2       58c926c3-8718-4845-918b-00155b917934        2003  чоловіча   \n3       443f89c2-84e7-4a56-bea3-005c776e0121        2004    жіноча   \n4       0b7b2e81-a906-412f-ad74-005025fd9d29        2003    жіноча   \n...                                      ...         ...       ...   \n389318  e62710ee-74fa-4085-b066-f38fc37ceae7        2003    жіноча   \n389319  b2e4de44-7ebd-4163-8952-f988a9de1f67        1989    жіноча   \n389320  e007c190-1fe1-4658-9eb0-f7cf489fc015        2004    жіноча   \n389321  2668b9f3-ddf9-4062-acd7-fdf6e2ca8cc8        2004  чоловіча   \n389322  c0723de9-57b5-4450-b404-ffe67945d843        2004    жіноча   \n\n                      region_name            area_name  \\\n0        Дніпропетровська область         м.Кам'янське   \n1          Кіровоградська область      м.Кропивницький   \n2        Дніпропетровська область             м.Дніпро   \n3          Кіровоградська область      м.Кропивницький   \n4       Івано-Франківська область     Долинський район   \n...                           ...                  ...   \n389318         Рівненська область   Демидівський район   \n389319         Харківська область   Кегичівський район   \n389320            Одеська область      Одеська область   \n389321          Вінницька область    Гайсинський район   \n389322        Хмельницька область  Хмельницька область   \n\n                  territory_name  \\\n0       Дніпровський район міста   \n1          Фортечний район міста   \n2           Соборний район міста   \n3          Фортечний район міста   \n4                       м.Долина   \n...                          ...   \n389318             смт Демидівка   \n389319             смт Кегичівка   \n389320  м.Білгород-Дністровський   \n389321               с.Чечелівка   \n389322                 м.Славута   \n\n                                              region_type  \\\n0                            Студент закладу вищої освіти   \n1       Випускник загальноосвітнього навчального закла...   \n2                            Студент закладу вищої освіти   \n3       Випускник загальноосвітнього навчального закла...   \n4       Випускник загальноосвітнього навчального закла...   \n...                                                   ...   \n389318  Учень (слухач) закладу професійної (професійно...   \n389319  Учень (слухач) закладу професійної (професійно...   \n389320                       Студент закладу вищої освіти   \n389321  Випускник загальноосвітнього навчального закла...   \n389322  Випускник загальноосвітнього навчального закла...   \n\n              territory_type            class_profile class_language  ...  \\\n0                      місто      Молодший спеціаліст     українська  ...   \n1                      місто            Технологічний     українська  ...   \n2                      місто      Молодший спеціаліст     українська  ...   \n3                      місто         Біолого-хімічний     українська  ...   \n4                      місто            Технологічний     українська  ...   \n...                      ...                      ...            ...  ...   \n389318  селище міського типу  Кваліфікований робітник     українська  ...   \n389319  селище міського типу  Кваліфікований робітник     українська  ...   \n389320                 місто      Молодший спеціаліст     українська  ...   \n389321          селище, село    Української філології     українська  ...   \n389322                 місто               Історичний     українська  ...   \n\n       spanish_score spanish_pt_name spanish_pt_region spanish_pt_area  \\\n0                NaN             NaN               NaN             NaN   \n1                NaN             NaN               NaN             NaN   \n2                NaN             NaN               NaN             NaN   \n3                NaN             NaN               NaN             NaN   \n4                NaN             NaN               NaN             NaN   \n...              ...             ...               ...             ...   \n389318           NaN             NaN               NaN             NaN   \n389319           NaN             NaN               NaN             NaN   \n389320           NaN             NaN               NaN             NaN   \n389321           NaN             NaN               NaN             NaN   \n389322           NaN             NaN               NaN             NaN   \n\n       spanish_pt_territory student_age region_flag subjects_count  \\\n0                       NaN          18        east              4   \n1                       NaN          18     central              4   \n2                       NaN          18        east              0   \n3                       NaN          17     central              4   \n4                       NaN          18        west              4   \n...                     ...         ...         ...            ...   \n389318                  NaN          18       north              0   \n389319                  NaN          32        east              0   \n389320                  NaN          17       south              0   \n389321                  NaN          17     central              3   \n389322                  NaN          17     central              3   \n\n       total_score  average_score  \n0            456.0     114.000000  \n1            416.0     104.000000  \n2              0.0            NaN  \n3            614.0     153.500000  \n4            707.0     176.750000  \n...            ...            ...  \n389318         0.0            NaN  \n389319         0.0            NaN  \n389320         0.0            NaN  \n389321       508.0     169.333333  \n389322       431.0     143.666667  \n\n[389323 rows x 152 columns]",
      "text/html": "<div>\n<style scoped>\n    .dataframe tbody tr th:only-of-type {\n        vertical-align: middle;\n    }\n\n    .dataframe tbody tr th {\n        vertical-align: top;\n    }\n\n    .dataframe thead th {\n        text-align: right;\n    }\n</style>\n<table border=\"1\" class=\"dataframe\">\n  <thead>\n    <tr style=\"text-align: right;\">\n      <th></th>\n      <th>id</th>\n      <th>birth_year</th>\n      <th>gender</th>\n      <th>region_name</th>\n      <th>area_name</th>\n      <th>territory_name</th>\n      <th>region_type</th>\n      <th>territory_type</th>\n      <th>class_profile</th>\n      <th>class_language</th>\n      <th>...</th>\n      <th>spanish_score</th>\n      <th>spanish_pt_name</th>\n      <th>spanish_pt_region</th>\n      <th>spanish_pt_area</th>\n      <th>spanish_pt_territory</th>\n      <th>student_age</th>\n      <th>region_flag</th>\n      <th>subjects_count</th>\n      <th>total_score</th>\n      <th>average_score</th>\n    </tr>\n  </thead>\n  <tbody>\n    <tr>\n      <th>0</th>\n      <td>8a2abef7-625a-4253-8c14-000fe8a856e5</td>\n      <td>2003</td>\n      <td>чоловіча</td>\n      <td>Дніпропетровська область</td>\n      <td>м.Кам'янське</td>\n      <td>Дніпровський район міста</td>\n      <td>Студент закладу вищої освіти</td>\n      <td>місто</td>\n      <td>Молодший спеціаліст</td>\n      <td>українська</td>\n      <td>...</td>\n      <td>NaN</td>\n      <td>NaN</td>\n      <td>NaN</td>\n      <td>NaN</td>\n      <td>NaN</td>\n      <td>18</td>\n      <td>east</td>\n      <td>4</td>\n      <td>456.0</td>\n      <td>114.000000</td>\n    </tr>\n    <tr>\n      <th>1</th>\n      <td>3e975d01-9cc9-4072-bbcd-005b9da75096</td>\n      <td>2003</td>\n      <td>чоловіча</td>\n      <td>Кіровоградська область</td>\n      <td>м.Кропивницький</td>\n      <td>Фортечний район міста</td>\n      <td>Випускник загальноосвітнього навчального закла...</td>\n      <td>місто</td>\n      <td>Технологічний</td>\n      <td>українська</td>\n      <td>...</td>\n      <td>NaN</td>\n      <td>NaN</td>\n      <td>NaN</td>\n      <td>NaN</td>\n      <td>NaN</td>\n      <td>18</td>\n      <td>central</td>\n      <td>4</td>\n      <td>416.0</td>\n      <td>104.000000</td>\n    </tr>\n    <tr>\n      <th>2</th>\n      <td>58c926c3-8718-4845-918b-00155b917934</td>\n      <td>2003</td>\n      <td>чоловіча</td>\n      <td>Дніпропетровська область</td>\n      <td>м.Дніпро</td>\n      <td>Соборний район міста</td>\n      <td>Студент закладу вищої освіти</td>\n      <td>місто</td>\n      <td>Молодший спеціаліст</td>\n      <td>українська</td>\n      <td>...</td>\n      <td>NaN</td>\n      <td>NaN</td>\n      <td>NaN</td>\n      <td>NaN</td>\n      <td>NaN</td>\n      <td>18</td>\n      <td>east</td>\n      <td>0</td>\n      <td>0.0</td>\n      <td>NaN</td>\n    </tr>\n    <tr>\n      <th>3</th>\n      <td>443f89c2-84e7-4a56-bea3-005c776e0121</td>\n      <td>2004</td>\n      <td>жіноча</td>\n      <td>Кіровоградська область</td>\n      <td>м.Кропивницький</td>\n      <td>Фортечний район міста</td>\n      <td>Випускник загальноосвітнього навчального закла...</td>\n      <td>місто</td>\n      <td>Біолого-хімічний</td>\n      <td>українська</td>\n      <td>...</td>\n      <td>NaN</td>\n      <td>NaN</td>\n      <td>NaN</td>\n      <td>NaN</td>\n      <td>NaN</td>\n      <td>17</td>\n      <td>central</td>\n      <td>4</td>\n      <td>614.0</td>\n      <td>153.500000</td>\n    </tr>\n    <tr>\n      <th>4</th>\n      <td>0b7b2e81-a906-412f-ad74-005025fd9d29</td>\n      <td>2003</td>\n      <td>жіноча</td>\n      <td>Івано-Франківська область</td>\n      <td>Долинський район</td>\n      <td>м.Долина</td>\n      <td>Випускник загальноосвітнього навчального закла...</td>\n      <td>місто</td>\n      <td>Технологічний</td>\n      <td>українська</td>\n      <td>...</td>\n      <td>NaN</td>\n      <td>NaN</td>\n      <td>NaN</td>\n      <td>NaN</td>\n      <td>NaN</td>\n      <td>18</td>\n      <td>west</td>\n      <td>4</td>\n      <td>707.0</td>\n      <td>176.750000</td>\n    </tr>\n    <tr>\n      <th>...</th>\n      <td>...</td>\n      <td>...</td>\n      <td>...</td>\n      <td>...</td>\n      <td>...</td>\n      <td>...</td>\n      <td>...</td>\n      <td>...</td>\n      <td>...</td>\n      <td>...</td>\n      <td>...</td>\n      <td>...</td>\n      <td>...</td>\n      <td>...</td>\n      <td>...</td>\n      <td>...</td>\n      <td>...</td>\n      <td>...</td>\n      <td>...</td>\n      <td>...</td>\n      <td>...</td>\n    </tr>\n    <tr>\n      <th>389318</th>\n      <td>e62710ee-74fa-4085-b066-f38fc37ceae7</td>\n      <td>2003</td>\n      <td>жіноча</td>\n      <td>Рівненська область</td>\n      <td>Демидівський район</td>\n      <td>смт Демидівка</td>\n      <td>Учень (слухач) закладу професійної (професійно...</td>\n      <td>селище міського типу</td>\n      <td>Кваліфікований робітник</td>\n      <td>українська</td>\n      <td>...</td>\n      <td>NaN</td>\n      <td>NaN</td>\n      <td>NaN</td>\n      <td>NaN</td>\n      <td>NaN</td>\n      <td>18</td>\n      <td>north</td>\n      <td>0</td>\n      <td>0.0</td>\n      <td>NaN</td>\n    </tr>\n    <tr>\n      <th>389319</th>\n      <td>b2e4de44-7ebd-4163-8952-f988a9de1f67</td>\n      <td>1989</td>\n      <td>жіноча</td>\n      <td>Харківська область</td>\n      <td>Кегичівський район</td>\n      <td>смт Кегичівка</td>\n      <td>Учень (слухач) закладу професійної (професійно...</td>\n      <td>селище міського типу</td>\n      <td>Кваліфікований робітник</td>\n      <td>українська</td>\n      <td>...</td>\n      <td>NaN</td>\n      <td>NaN</td>\n      <td>NaN</td>\n      <td>NaN</td>\n      <td>NaN</td>\n      <td>32</td>\n      <td>east</td>\n      <td>0</td>\n      <td>0.0</td>\n      <td>NaN</td>\n    </tr>\n    <tr>\n      <th>389320</th>\n      <td>e007c190-1fe1-4658-9eb0-f7cf489fc015</td>\n      <td>2004</td>\n      <td>жіноча</td>\n      <td>Одеська область</td>\n      <td>Одеська область</td>\n      <td>м.Білгород-Дністровський</td>\n      <td>Студент закладу вищої освіти</td>\n      <td>місто</td>\n      <td>Молодший спеціаліст</td>\n      <td>українська</td>\n      <td>...</td>\n      <td>NaN</td>\n      <td>NaN</td>\n      <td>NaN</td>\n      <td>NaN</td>\n      <td>NaN</td>\n      <td>17</td>\n      <td>south</td>\n      <td>0</td>\n      <td>0.0</td>\n      <td>NaN</td>\n    </tr>\n    <tr>\n      <th>389321</th>\n      <td>2668b9f3-ddf9-4062-acd7-fdf6e2ca8cc8</td>\n      <td>2004</td>\n      <td>чоловіча</td>\n      <td>Вінницька область</td>\n      <td>Гайсинський район</td>\n      <td>с.Чечелівка</td>\n      <td>Випускник загальноосвітнього навчального закла...</td>\n      <td>селище, село</td>\n      <td>Української філології</td>\n      <td>українська</td>\n      <td>...</td>\n      <td>NaN</td>\n      <td>NaN</td>\n      <td>NaN</td>\n      <td>NaN</td>\n      <td>NaN</td>\n      <td>17</td>\n      <td>central</td>\n      <td>3</td>\n      <td>508.0</td>\n      <td>169.333333</td>\n    </tr>\n    <tr>\n      <th>389322</th>\n      <td>c0723de9-57b5-4450-b404-ffe67945d843</td>\n      <td>2004</td>\n      <td>жіноча</td>\n      <td>Хмельницька область</td>\n      <td>Хмельницька область</td>\n      <td>м.Славута</td>\n      <td>Випускник загальноосвітнього навчального закла...</td>\n      <td>місто</td>\n      <td>Історичний</td>\n      <td>українська</td>\n      <td>...</td>\n      <td>NaN</td>\n      <td>NaN</td>\n      <td>NaN</td>\n      <td>NaN</td>\n      <td>NaN</td>\n      <td>17</td>\n      <td>central</td>\n      <td>3</td>\n      <td>431.0</td>\n      <td>143.666667</td>\n    </tr>\n  </tbody>\n</table>\n<p>389323 rows × 152 columns</p>\n</div>"
     },
     "execution_count": 19,
     "metadata": {},
     "output_type": "execute_result"
    }
   ],
   "source": [
    "df = pd.read_csv(\"transformed_data/2021.csv\")\n",
    "df"
   ],
   "metadata": {
    "collapsed": false,
    "ExecuteTime": {
     "end_time": "2025-06-14T13:35:31.920861Z",
     "start_time": "2025-06-14T13:35:22.144480Z"
    }
   },
   "id": "8751a22ed9162dce"
  },
  {
   "cell_type": "markdown",
   "source": [
    "## In Kyiv"
   ],
   "metadata": {
    "collapsed": false
   },
   "id": "1b3a22449a90f91"
  },
  {
   "cell_type": "code",
   "execution_count": 26,
   "outputs": [
    {
     "name": "stderr",
     "output_type": "stream",
     "text": [
      "/var/folders/5r/4d3mqngx3c3bynq7lh4_h3tr0000gn/T/ipykernel_44794/496319249.py:37: DtypeWarning: Columns (96,97,100,102,103,104,105,116,117,120,122,123,124,125) have mixed types. Specify dtype option on import or set low_memory=False.\n",
      "  df = pd.read_csv(file_path)\n"
     ]
    },
    {
     "name": "stdout",
     "output_type": "stream",
     "text": [
      "Попередження: У файлі 2020.csv відсутні колонки ['test_date', 'weather_id', 'average_score', 'pt_region_name'], пропускаємо\n"
     ]
    },
    {
     "name": "stderr",
     "output_type": "stream",
     "text": [
      "/var/folders/5r/4d3mqngx3c3bynq7lh4_h3tr0000gn/T/ipykernel_44794/496319249.py:37: DtypeWarning: Columns (117,118,121,123,124,125,126,137,138,141,143,144,145,146) have mixed types. Specify dtype option on import or set low_memory=False.\n",
      "  df = pd.read_csv(file_path)\n"
     ]
    },
    {
     "name": "stdout",
     "output_type": "stream",
     "text": [
      "Попередження: У файлі 2021.csv відсутні колонки ['test_date', 'weather_id', 'average_score', 'pt_region_name'], пропускаємо\n"
     ]
    },
    {
     "name": "stderr",
     "output_type": "stream",
     "text": [
      "/var/folders/5r/4d3mqngx3c3bynq7lh4_h3tr0000gn/T/ipykernel_44794/496319249.py:37: DtypeWarning: Columns (8,9,10,11,12,13) have mixed types. Specify dtype option on import or set low_memory=False.\n",
      "  df = pd.read_csv(file_path)\n",
      "/var/folders/5r/4d3mqngx3c3bynq7lh4_h3tr0000gn/T/ipykernel_44794/496319249.py:37: DtypeWarning: Columns (100,116,117,120,122,123,124,125) have mixed types. Specify dtype option on import or set low_memory=False.\n",
      "  df = pd.read_csv(file_path)\n"
     ]
    },
    {
     "name": "stdout",
     "output_type": "stream",
     "text": [
      "Попередження: У файлі 2019.csv відсутні колонки ['test_date', 'weather_id', 'average_score', 'pt_region_name'], пропускаємо\n",
      "Успіх: Результати групування для м. Київ збережено у aggregated_data/weather/weather_score_summary.csv\n",
      "year weather_id  mean_average_score  student_count\n",
      "2022     Cloudy              154.04           3770\n",
      "2022   Overcast              153.80           4365\n",
      "2022      Rainy              154.19           4215\n",
      "2022      Sunny              154.88           5490\n",
      "2023     Cloudy              146.30           1703\n",
      "2023   Overcast              148.19          15775\n",
      "2023      Sunny              145.92           4623\n",
      "2024     Cloudy              141.15           2226\n",
      "2024   Overcast              143.53           6411\n",
      "2024      Rainy              144.93           6190\n",
      "2024      Sunny              145.09           7927\n"
     ]
    }
   ],
   "source": [
    "import pandas as pd\n",
    "import os\n",
    "\n",
    "def group_by_year_weather_and_score(input_dir=\"filtered_data\", output_dir=\"aggregated_data/weather\", output_file=\"weather_score_summary.csv\"):\n",
    "    \"\"\"\n",
    "    Групує дані з CSV-файлів у папці transformed_data за роком і weather_id для м. Київ,\n",
    "    обчислюючи середній average_score та кількість учнів. Зберігає результат у вказаній папці aggregated_data/weather.\n",
    "    \n",
    "    Параметри:\n",
    "        input_dir (str): Папка з CSV-файлами (transformed_data).\n",
    "        output_dir (str): Папка для збереження результату (aggregated_data/weather).\n",
    "        output_file (str): Ім'я вихідного файлу (weather_score_summary.csv).\n",
    "    \n",
    "    Повертає:\n",
    "        None (зберігає результат у CSV).\n",
    "    \"\"\"\n",
    "    # Перевірка існування папки transformed_data\n",
    "    if not os.path.exists(input_dir):\n",
    "        print(f\"Помилка: Папка {input_dir} не існує\")\n",
    "        return\n",
    "\n",
    "    # Створення вихідної папки, якщо вона не існує\n",
    "    os.makedirs(output_dir, exist_ok=True)\n",
    "\n",
    "    # Повний шлях до вихідного файлу\n",
    "    output_path = os.path.join(output_dir, output_file)\n",
    "\n",
    "    # Список для зберігання даних із усіх файлів\n",
    "    all_data = []\n",
    "\n",
    "    # Проходимо по всіх CSV-файлах у папці\n",
    "    for filename in os.listdir(input_dir):\n",
    "        if filename.endswith(\".csv\"):\n",
    "            file_path = os.path.join(input_dir, filename)\n",
    "            try:\n",
    "                # Читаємо CSV-файл\n",
    "                df = pd.read_csv(file_path)\n",
    "                # Перевіряємо наявність потрібних колонок\n",
    "                required_columns = [\"test_date\", \"weather_id\", \"average_score\", \"pt_region_name\"]\n",
    "                if not all(col in df.columns for col in required_columns):\n",
    "                    print(f\"Попередження: У файлі {filename} відсутні колонки {required_columns}, пропускаємо\")\n",
    "                    continue\n",
    "                # Фільтруємо лише м. Київ і створюємо копію\n",
    "                df_kyiv = df[df[\"pt_region_name\"] == \"м.Київ\"].copy()\n",
    "                if df_kyiv.empty:\n",
    "                    print(f\"Попередження: У файлі {filename} немає даних для м. Київ\")\n",
    "                    continue\n",
    "                # Витягуємо рік із test_date\n",
    "                df_kyiv[\"year\"] = df_kyiv[\"test_date\"].str[:4]\n",
    "                # Вибираємо потрібні колонки\n",
    "                all_data.append(df_kyiv[[\"year\", \"weather_id\", \"average_score\"]])\n",
    "            except Exception as e:\n",
    "                print(f\"Помилка при обробці файлу {filename}: {str(e)}\")\n",
    "\n",
    "    # Якщо жоден файл не оброблено\n",
    "    if not all_data:\n",
    "        print(\"Помилка: Жоден CSV-файл не містить потрібних даних для м. Київ\")\n",
    "        return\n",
    "\n",
    "    # Об’єднуємо всі дані в один DataFrame\n",
    "    combined_df = pd.concat(all_data, ignore_index=True)\n",
    "\n",
    "    # Групуємо за year і weather_id, обчислюємо середній average_score та кількість учнів\n",
    "    try:\n",
    "        # Спочатку групуємо і обчислюємо середнє\n",
    "        mean_df = combined_df.groupby([\"year\", \"weather_id\"])[\"average_score\"].mean().reset_index()\n",
    "        mean_df = mean_df.rename(columns={\"average_score\": \"mean_average_score\"})\n",
    "        \n",
    "        # Додаємо кількість учнів (кількість рядків у групі)\n",
    "        count_df = combined_df.groupby([\"year\", \"weather_id\"]).size().reset_index(name=\"student_count\")\n",
    "        \n",
    "        # Об’єднуємо таблиці\n",
    "        summary_df = pd.merge(mean_df, count_df, on=[\"year\", \"weather_id\"])\n",
    "        \n",
    "        # Округляємо середній бал до 2 знаків\n",
    "        summary_df[\"mean_average_score\"] = summary_df[\"mean_average_score\"].round(2)\n",
    "\n",
    "        # Сортуємо за роком і weather_id для зручності\n",
    "        summary_df = summary_df.sort_values([\"year\", \"weather_id\"])\n",
    "\n",
    "        # Перевіряємо, що є саме 4 стовпчики\n",
    "        if len(summary_df.columns) != 4:\n",
    "            print(f\"Попередження: Очікувалося 4 стовпчики, але є {len(summary_df.columns)}. Колонки: {summary_df.columns.tolist()}\")\n",
    "\n",
    "        # Зберігаємо результат\n",
    "        summary_df.to_csv(output_path, index=False)\n",
    "        print(f\"Успіх: Результати групування для м. Київ збережено у {output_path}\")\n",
    "        print(summary_df.to_string(index=False))\n",
    "    except Exception as e:\n",
    "        print(f\"Помилка при групуванні або збереженні даних: {str(e)}\")\n",
    "\n",
    "# Виклик функції\n",
    "if __name__ == \"__main__\":\n",
    "    group_by_year_weather_and_score()"
   ],
   "metadata": {
    "collapsed": false,
    "ExecuteTime": {
     "end_time": "2025-06-14T13:45:27.555024Z",
     "start_time": "2025-06-14T13:45:07.829859Z"
    }
   },
   "id": "3a7cb8e6960601aa"
  },
  {
   "cell_type": "code",
   "execution_count": null,
   "outputs": [],
   "source": [],
   "metadata": {
    "collapsed": false
   },
   "id": "179d653f8d121c39"
  }
 ],
 "metadata": {
  "kernelspec": {
   "display_name": "Python 3",
   "language": "python",
   "name": "python3"
  },
  "language_info": {
   "codemirror_mode": {
    "name": "ipython",
    "version": 2
   },
   "file_extension": ".py",
   "mimetype": "text/x-python",
   "name": "python",
   "nbconvert_exporter": "python",
   "pygments_lexer": "ipython2",
   "version": "2.7.6"
  }
 },
 "nbformat": 4,
 "nbformat_minor": 5
}
