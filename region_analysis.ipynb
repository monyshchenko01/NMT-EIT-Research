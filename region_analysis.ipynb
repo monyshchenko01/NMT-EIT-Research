{
 "cells": [
  {
   "cell_type": "code",
   "execution_count": 67,
   "id": "initial_id",
   "metadata": {
    "collapsed": true,
    "ExecuteTime": {
     "end_time": "2025-06-17T15:50:12.823130Z",
     "start_time": "2025-06-17T15:49:53.607106Z"
    }
   },
   "outputs": [
    {
     "name": "stdout",
     "output_type": "stream",
     "text": [
      "🗂️ Читання файлів...\n",
      "\n",
      "🔍 Файл: 2020.csv\n",
      "📅 Рік: 2020\n",
      "📌 Тип іспиту: ZNO\n"
     ]
    },
    {
     "name": "stderr",
     "output_type": "stream",
     "text": [
      "/var/folders/5r/4d3mqngx3c3bynq7lh4_h3tr0000gn/T/ipykernel_16227/4284509160.py:28: DtypeWarning: Columns (96,97,100,102,103,104,105,116,117,120,122,123,124,125) have mixed types. Specify dtype option on import or set low_memory=False.\n",
      "  df = pd.read_csv(path)\n"
     ]
    },
    {
     "name": "stdout",
     "output_type": "stream",
     "text": [
      "✅ Прочитано: 201212 рядків\n",
      "⚙️ Фільтр math_pt_region == region_name: рядків було 201212, стало 118084 (обрізано 83128)\n",
      "✔️  Знайдено потрібні колонки\n",
      "🔍 Файл: 2021.csv\n",
      "📅 Рік: 2021\n",
      "📌 Тип іспиту: ZNO\n"
     ]
    },
    {
     "name": "stderr",
     "output_type": "stream",
     "text": [
      "/var/folders/5r/4d3mqngx3c3bynq7lh4_h3tr0000gn/T/ipykernel_16227/4284509160.py:28: DtypeWarning: Columns (117,118,121,123,124,125,126,137,138,141,143,144,145,146) have mixed types. Specify dtype option on import or set low_memory=False.\n",
      "  df = pd.read_csv(path)\n"
     ]
    },
    {
     "name": "stdout",
     "output_type": "stream",
     "text": [
      "✅ Прочитано: 188609 рядків\n",
      "⚙️ Фільтр math_pt_region == region_name: рядків було 188609, стало 164486 (обрізано 24123)\n",
      "✔️  Знайдено потрібні колонки\n",
      "🔍 Файл: 2023.csv\n",
      "📅 Рік: 2023\n",
      "📌 Тип іспиту: EIT\n",
      "✅ Прочитано: 256313 рядків\n",
      "⚙️ Фільтр pt_region_name == region_name: рядків було 256313, стало 220897 (обрізано 35416)\n",
      "✔️  Знайдено потрібні колонки\n",
      "🔍 Файл: 2022.csv\n",
      "📅 Рік: 2022\n",
      "📌 Тип іспиту: EIT\n"
     ]
    },
    {
     "name": "stderr",
     "output_type": "stream",
     "text": [
      "/var/folders/5r/4d3mqngx3c3bynq7lh4_h3tr0000gn/T/ipykernel_16227/4284509160.py:28: DtypeWarning: Columns (8,9,10,11,12,13) have mixed types. Specify dtype option on import or set low_memory=False.\n",
      "  df = pd.read_csv(path)\n"
     ]
    },
    {
     "name": "stdout",
     "output_type": "stream",
     "text": [
      "✅ Прочитано: 213647 рядків\n",
      "⚙️ Фільтр pt_region_name == region_name: рядків було 213647, стало 172865 (обрізано 40782)\n",
      "✔️  Знайдено потрібні колонки\n",
      "🔍 Файл: 2019.csv\n",
      "📅 Рік: 2019\n",
      "📌 Тип іспиту: ZNO\n"
     ]
    },
    {
     "name": "stderr",
     "output_type": "stream",
     "text": [
      "/var/folders/5r/4d3mqngx3c3bynq7lh4_h3tr0000gn/T/ipykernel_16227/4284509160.py:28: DtypeWarning: Columns (100,116,117,120,122,123,124,125) have mixed types. Specify dtype option on import or set low_memory=False.\n",
      "  df = pd.read_csv(path)\n"
     ]
    },
    {
     "name": "stdout",
     "output_type": "stream",
     "text": [
      "✅ Прочитано: 172734 рядків\n",
      "⚙️ Фільтр math_pt_region == region_name: рядків було 172734, стало 96606 (обрізано 76128)\n",
      "✔️  Знайдено потрібні колонки\n",
      "🔍 Файл: 2024.csv\n",
      "📅 Рік: 2024\n",
      "📌 Тип іспиту: EIT\n",
      "✅ Прочитано: 264164 рядків\n",
      "⚙️ Фільтр pt_region_name == region_name: рядків було 264164, стало 235488 (обрізано 28676)\n",
      "✔️  Знайдено потрібні колонки\n",
      "\n",
      "📊 Об'єднання даних...\n",
      "🔗 Усього рядків: 141\n",
      "                 region_name  average_score  year source\n",
      "0  Івано-Франківська область     149.334603  2020    ZNO\n",
      "1          Волинська область     148.794666  2020    ZNO\n",
      "2          Вінницька область     144.970217  2020    ZNO\n",
      "3   Дніпропетровська область     145.102046  2020    ZNO\n",
      "4           Донецька область     143.967670  2020    ZNO\n",
      "\n",
      "📈 Статистика average_score по роках і типах тестів:\n",
      "             count        mean       std         min         25%         50%  \\\n",
      "source year                                                                    \n",
      "EIT    2022   22.0  150.437761  2.094032  147.029111  149.136516  150.050098   \n",
      "       2023   22.0  142.563662  1.861720  140.413967  141.452155  142.192814   \n",
      "       2024   22.0  139.066670  1.913976  137.209683  137.784486  138.786911   \n",
      "ZNO    2019   25.0  148.089303  2.940759  143.356988  145.976929  147.686299   \n",
      "       2020   25.0  146.425004  2.749357  142.701630  144.324063  146.290689   \n",
      "       2021   25.0  144.677449  2.220974  141.878612  143.525764  144.197983   \n",
      "\n",
      "                    75%         max  \n",
      "source year                          \n",
      "EIT    2022  151.026054  155.909085  \n",
      "       2023  142.974054  147.666438  \n",
      "       2024  139.370551  144.803706  \n",
      "ZNO    2019  149.138195  156.714667  \n",
      "       2020  147.783851  154.159784  \n",
      "       2021  145.618879  151.270673  \n",
      "\n",
      "⚙️ Обчислення score_norm...\n",
      "⚙️ Обчислення score_rel...\n",
      "\n",
      "✅ Результат (топ 20):\n",
      "                  region_name  average_score  year source  score_norm  \\\n",
      "81          Львівська область     155.909085  2022    EIT    1.000000   \n",
      "93                     м.Київ     154.653617  2022    EIT    0.858618   \n",
      "73          Волинська область     153.100638  2022    EIT    0.683733   \n",
      "85         Рівненська область     152.178068  2022    EIT    0.579839   \n",
      "72  Івано-Франківська область     151.956920  2022    EIT    0.554935   \n",
      "87      Тернопільська область     151.079721  2022    EIT    0.456151   \n",
      "91        Чернівецька область     150.865054  2022    EIT    0.431977   \n",
      "88         Харківська область     150.476334  2022    EIT    0.388202   \n",
      "92       Чернігівська область     150.415948  2022    EIT    0.381402   \n",
      "74          Вінницька область     150.188944  2022    EIT    0.355838   \n",
      "79           Київська область     150.084584  2022    EIT    0.344086   \n",
      "86            Сумська область     150.015611  2022    EIT    0.336319   \n",
      "89        Хмельницька область     149.937755  2022    EIT    0.327551   \n",
      "90          Черкаська область     149.838851  2022    EIT    0.316413   \n",
      "76        Житомирська область     149.305729  2022    EIT    0.256377   \n",
      "84         Полтавська область     149.258729  2022    EIT    0.251084   \n",
      "83            Одеська область     149.095779  2022    EIT    0.232734   \n",
      "78         Запорізька область     148.810187  2022    EIT    0.200572   \n",
      "75   Дніпропетровська область     148.677348  2022    EIT    0.185613   \n",
      "80     Кіровоградська область     148.517275  2022    EIT    0.167587   \n",
      "\n",
      "    score_rel  \n",
      "81   1.036369  \n",
      "93   1.028024  \n",
      "73   1.017701  \n",
      "85   1.011568  \n",
      "72   1.010098  \n",
      "87   1.004267  \n",
      "91   1.002840  \n",
      "88   1.000256  \n",
      "92   0.999855  \n",
      "74   0.998346  \n",
      "79   0.997652  \n",
      "86   0.997194  \n",
      "89   0.996676  \n",
      "90   0.996019  \n",
      "76   0.992475  \n",
      "84   0.992163  \n",
      "83   0.991079  \n",
      "78   0.989181  \n",
      "75   0.988298  \n",
      "80   0.987234  \n"
     ]
    }
   ],
   "source": [
    "import pandas as pd\n",
    "import os\n",
    "import re\n",
    "\n",
    "folder_path = 'filtered_data'\n",
    "dfs = []\n",
    "\n",
    "print(\"🗂️ Читання файлів...\\n\")\n",
    "\n",
    "for file in os.listdir(folder_path):\n",
    "    if file.endswith('.csv'):\n",
    "        print(f\"🔍 Файл: {file}\")\n",
    "        \n",
    "        # Витягнути рік із назви файлу\n",
    "        year_match = re.search(r'(\\d{4})', file)\n",
    "        if not year_match:\n",
    "            print(\"⚠️  Пропущено: не знайдено рік у назві\")\n",
    "            continue\n",
    "        year = int(year_match.group(1))\n",
    "        print(f\"📅 Рік: {year}\")\n",
    "        \n",
    "        # Визначити тип іспиту\n",
    "        source = 'ZNO' if year < 2022 else 'EIT'\n",
    "        print(f\"📌 Тип іспиту: {source}\")\n",
    "        \n",
    "        # Зчитати CSV\n",
    "        path = os.path.join(folder_path, file)\n",
    "        df = pd.read_csv(path)\n",
    "        print(f\"✅ Прочитано: {len(df)} рядків\")\n",
    "\n",
    "        # Фільтрація по регіону залежно від source\n",
    "        if source == 'ZNO':\n",
    "            # Для ZNO перевіряємо наявність math_pt_region (або інших pt_region)\n",
    "            pt_col_candidates = ['math_pt_region', 'pt_region_name']\n",
    "            pt_col = None\n",
    "            for col in pt_col_candidates:\n",
    "                if col in df.columns:\n",
    "                    pt_col = col\n",
    "                    break\n",
    "            \n",
    "            if pt_col:\n",
    "                before_filter = len(df)\n",
    "                df = df[df[pt_col] == df['region_name']]\n",
    "                after_filter = len(df)\n",
    "                print(f\"⚙️ Фільтр {pt_col} == region_name: рядків було {before_filter}, стало {after_filter} (обрізано {before_filter - after_filter})\")\n",
    "            else:\n",
    "                print(f\"⚠️ Не знайдено колонок {pt_col_candidates} для фільтрації у ZNO\")\n",
    "        \n",
    "        else:  # source == 'EIT'\n",
    "            if 'pt_region_name' in df.columns and 'region_name' in df.columns:\n",
    "                before_filter = len(df)\n",
    "                df = df[df['pt_region_name'] == df['region_name']]\n",
    "                after_filter = len(df)\n",
    "                print(f\"⚙️ Фільтр pt_region_name == region_name: рядків було {before_filter}, стало {after_filter} (обрізано {before_filter - after_filter})\")\n",
    "            else:\n",
    "                print(\"⚠️ У файлі немає колонок 'pt_region_name' і 'region_name' для фільтрації\")\n",
    "\n",
    "        # Перевірка колонок для подальшої агрегації\n",
    "        if 'region_name' in df.columns and 'average_score' in df.columns:\n",
    "            print(\"✔️  Знайдено потрібні колонки\")\n",
    "            df = df.groupby('region_name', as_index=False)['average_score'].mean()\n",
    "            df['year'] = year\n",
    "            df['source'] = source\n",
    "            dfs.append(df)\n",
    "        else:\n",
    "            print(\"❌ Немає колонок 'region_name' і 'average_score', пропущено\\n\")\n",
    "\n",
    "print(\"\\n📊 Об'єднання даних...\")\n",
    "\n",
    "# Об'єднати всі файли в один DataFrame\n",
    "data = pd.concat(dfs, ignore_index=True)\n",
    "print(f\"🔗 Усього рядків: {len(data)}\")\n",
    "print(data.head())\n",
    "\n",
    "# Статистика по source + year\n",
    "print(\"\\n📈 Статистика average_score по роках і типах тестів:\")\n",
    "print(data.groupby(['source', 'year'])['average_score'].describe())\n",
    "\n",
    "# Мін-макс нормалізація всередині source + year\n",
    "print(\"\\n⚙️ Обчислення score_norm...\")\n",
    "data['score_norm'] = data.groupby(['source', 'year'])['average_score'].transform(\n",
    "    lambda x: (x - x.min()) / (x.max() - x.min())\n",
    ")\n",
    "\n",
    "# Відносний індекс у межах source + year з середнім\n",
    "print(\"⚙️ Обчислення score_rel...\")\n",
    "data['score_rel'] = data['average_score'] / data.groupby(['source', 'year'])['average_score'].transform('mean')\n",
    "\n",
    "# Результат\n",
    "print(\"\\n✅ Результат (топ 20):\")\n",
    "print(data.sort_values(['source', 'year', 'score_norm'], ascending=[True, True, False]).head(20))\n"
   ]
  },
  {
   "cell_type": "code",
   "execution_count": 68,
   "outputs": [
    {
     "data": {
      "text/plain": "                   region_name  average_score  year source  score_norm  \\\n0    Івано-Франківська область     149.334603  2020    ZNO    0.578887   \n1            Волинська область     148.794666  2020    ZNO    0.531764   \n2            Вінницька область     144.970217  2020    ZNO    0.197989   \n3     Дніпропетровська область     145.102046  2020    ZNO    0.209494   \n4             Донецька область     143.967670  2020    ZNO    0.110493   \n..                         ...            ...   ...    ...         ...   \n136        Хмельницька область     139.375244  2024    EIT    0.285166   \n137          Черкаська область     138.331308  2024    EIT    0.147698   \n138        Чернівецька область     138.119851  2024    EIT    0.119853   \n139       Чернігівська область     138.846084  2024    EIT    0.215485   \n140                     м.Київ     144.803706  2024    EIT    1.000000   \n\n     score_rel  \n0     1.019871  \n1     1.016183  \n2     0.990065  \n3     0.990965  \n4     0.983218  \n..         ...  \n136   1.002219  \n137   0.994712  \n138   0.993192  \n139   0.998414  \n140   1.041254  \n\n[141 rows x 6 columns]",
      "text/html": "<div>\n<style scoped>\n    .dataframe tbody tr th:only-of-type {\n        vertical-align: middle;\n    }\n\n    .dataframe tbody tr th {\n        vertical-align: top;\n    }\n\n    .dataframe thead th {\n        text-align: right;\n    }\n</style>\n<table border=\"1\" class=\"dataframe\">\n  <thead>\n    <tr style=\"text-align: right;\">\n      <th></th>\n      <th>region_name</th>\n      <th>average_score</th>\n      <th>year</th>\n      <th>source</th>\n      <th>score_norm</th>\n      <th>score_rel</th>\n    </tr>\n  </thead>\n  <tbody>\n    <tr>\n      <th>0</th>\n      <td>Івано-Франківська область</td>\n      <td>149.334603</td>\n      <td>2020</td>\n      <td>ZNO</td>\n      <td>0.578887</td>\n      <td>1.019871</td>\n    </tr>\n    <tr>\n      <th>1</th>\n      <td>Волинська область</td>\n      <td>148.794666</td>\n      <td>2020</td>\n      <td>ZNO</td>\n      <td>0.531764</td>\n      <td>1.016183</td>\n    </tr>\n    <tr>\n      <th>2</th>\n      <td>Вінницька область</td>\n      <td>144.970217</td>\n      <td>2020</td>\n      <td>ZNO</td>\n      <td>0.197989</td>\n      <td>0.990065</td>\n    </tr>\n    <tr>\n      <th>3</th>\n      <td>Дніпропетровська область</td>\n      <td>145.102046</td>\n      <td>2020</td>\n      <td>ZNO</td>\n      <td>0.209494</td>\n      <td>0.990965</td>\n    </tr>\n    <tr>\n      <th>4</th>\n      <td>Донецька область</td>\n      <td>143.967670</td>\n      <td>2020</td>\n      <td>ZNO</td>\n      <td>0.110493</td>\n      <td>0.983218</td>\n    </tr>\n    <tr>\n      <th>...</th>\n      <td>...</td>\n      <td>...</td>\n      <td>...</td>\n      <td>...</td>\n      <td>...</td>\n      <td>...</td>\n    </tr>\n    <tr>\n      <th>136</th>\n      <td>Хмельницька область</td>\n      <td>139.375244</td>\n      <td>2024</td>\n      <td>EIT</td>\n      <td>0.285166</td>\n      <td>1.002219</td>\n    </tr>\n    <tr>\n      <th>137</th>\n      <td>Черкаська область</td>\n      <td>138.331308</td>\n      <td>2024</td>\n      <td>EIT</td>\n      <td>0.147698</td>\n      <td>0.994712</td>\n    </tr>\n    <tr>\n      <th>138</th>\n      <td>Чернівецька область</td>\n      <td>138.119851</td>\n      <td>2024</td>\n      <td>EIT</td>\n      <td>0.119853</td>\n      <td>0.993192</td>\n    </tr>\n    <tr>\n      <th>139</th>\n      <td>Чернігівська область</td>\n      <td>138.846084</td>\n      <td>2024</td>\n      <td>EIT</td>\n      <td>0.215485</td>\n      <td>0.998414</td>\n    </tr>\n    <tr>\n      <th>140</th>\n      <td>м.Київ</td>\n      <td>144.803706</td>\n      <td>2024</td>\n      <td>EIT</td>\n      <td>1.000000</td>\n      <td>1.041254</td>\n    </tr>\n  </tbody>\n</table>\n<p>141 rows × 6 columns</p>\n</div>"
     },
     "execution_count": 68,
     "metadata": {},
     "output_type": "execute_result"
    }
   ],
   "source": [
    "data"
   ],
   "metadata": {
    "collapsed": false,
    "ExecuteTime": {
     "end_time": "2025-06-17T15:51:19.192748Z",
     "start_time": "2025-06-17T15:51:19.169328Z"
    }
   },
   "id": "3f3fab45c7ad636b"
  },
  {
   "cell_type": "code",
   "execution_count": 63,
   "outputs": [
    {
     "data": {
      "text/plain": "                  region_name source  average_score_mean  score_norm_mean  \\\n0   Івано-Франківська область    EIT          144.559473         0.368883   \n1   Івано-Франківська область    ZNO          145.913723         0.476189   \n2           Волинська область    EIT          145.800046         0.528326   \n3           Волинська область    ZNO          146.013451         0.493993   \n4           Вінницька область    EIT          143.778823         0.277182   \n5           Вінницька область    ZNO          143.403667         0.266280   \n6    Дніпропетровська область    EIT          142.629507         0.133678   \n7    Дніпропетровська область    ZNO          143.307449         0.261358   \n8            Донецька область    ZNO          143.179268         0.252377   \n9         Житомирська область    EIT          142.693665         0.137109   \n10        Житомирська область    ZNO          143.399627         0.273870   \n11       Закарпатська область    EIT          142.203162         0.079485   \n12       Закарпатська область    ZNO          140.013683         0.000000   \n13         Запорізька область    EIT          142.592805         0.127818   \n14         Запорізька область    ZNO          142.308087         0.182468   \n15           Київська область    EIT          144.189309         0.333329   \n16           Київська область    ZNO          144.900922         0.405059   \n17     Кіровоградська область    EIT          142.346527         0.096497   \n18     Кіровоградська область    ZNO          143.243741         0.259965   \n19          Луганська область    ZNO          141.649793         0.129264   \n20          Львівська область    EIT          149.154362         0.959787   \n21          Львівська область    ZNO          150.310444         0.856854   \n22       Миколаївська область    EIT          141.550920         0.000000   \n23       Миколаївська область    ZNO          141.450480         0.107047   \n24            Одеська область    EIT          143.148987         0.199761   \n25            Одеська область    ZNO          143.323966         0.273952   \n26         Полтавська область    EIT          142.803155         0.152937   \n27         Полтавська область    ZNO          144.117040         0.330466   \n28         Рівненська область    EIT          144.889733         0.412612   \n29         Рівненська область    ZNO          144.770318         0.399388   \n30            Сумська область    EIT          143.475425         0.237786   \n31            Сумська область    ZNO          145.260605         0.427886   \n32      Тернопільська область    EIT          144.479812         0.364303   \n33      Тернопільська область    ZNO          145.855499         0.468446   \n34         Харківська область    EIT          144.078200         0.316091   \n35         Харківська область    ZNO          146.868692         0.566780   \n36         Херсонська область    ZNO          142.231277         0.183135   \n37        Хмельницька область    EIT          143.913597         0.296797   \n38        Хмельницька область    ZNO          144.244719         0.343500   \n39          Черкаська область    EIT          143.419747         0.231694   \n40          Черкаська область    ZNO          144.436323         0.360470   \n41        Чернівецька область    EIT          144.026835         0.307195   \n42        Чернівецька область    ZNO          142.943746         0.248473   \n43       Чернігівська область    EIT          143.730595         0.268630   \n44       Чернігівська область    ZNO          144.736121         0.392523   \n45                     м.Київ    EIT          149.034660         0.951964   \n46                     м.Київ    ZNO          152.068224         1.000000   \n\n    score_rel_mean  count_years  \n0         1.003596            3  \n1         1.010503            3  \n2         1.012214            3  \n3         1.011182            3  \n4         0.998307            3  \n5         0.993115            3  \n6         0.990367            3  \n7         0.992449            3  \n8         0.991546            3  \n9         0.990743            3  \n10        0.993086            3  \n11        0.987406            3  \n12        0.969652            3  \n13        0.990084            3  \n14        0.985521            3  \n15        1.001237            3  \n16        1.003479            3  \n17        0.988388            3  \n18        0.992000            3  \n19        0.980967            3  \n20        1.035609            3  \n21        1.040945            3  \n22        0.982970            3  \n23        0.979576            3  \n24        0.994017            3  \n25        0.992561            3  \n26        0.991508            3  \n27        0.998043            3  \n28        1.005884            3  \n29        1.002605            3  \n30        0.996172            3  \n31        1.005973            3  \n32        1.003173            3  \n33        1.010093            3  \n34        1.000370            3  \n35        1.017104            3  \n36        0.984990            3  \n37        0.999314            3  \n38        0.998943            3  \n39        0.995801            3  \n40        1.000257            3  \n41        0.999921            3  \n42        0.989950            3  \n43        0.997941            3  \n44        1.002346            3  \n45        1.034977            3  \n46        1.053115            3  ",
      "text/html": "<div>\n<style scoped>\n    .dataframe tbody tr th:only-of-type {\n        vertical-align: middle;\n    }\n\n    .dataframe tbody tr th {\n        vertical-align: top;\n    }\n\n    .dataframe thead th {\n        text-align: right;\n    }\n</style>\n<table border=\"1\" class=\"dataframe\">\n  <thead>\n    <tr style=\"text-align: right;\">\n      <th></th>\n      <th>region_name</th>\n      <th>source</th>\n      <th>average_score_mean</th>\n      <th>score_norm_mean</th>\n      <th>score_rel_mean</th>\n      <th>count_years</th>\n    </tr>\n  </thead>\n  <tbody>\n    <tr>\n      <th>0</th>\n      <td>Івано-Франківська область</td>\n      <td>EIT</td>\n      <td>144.559473</td>\n      <td>0.368883</td>\n      <td>1.003596</td>\n      <td>3</td>\n    </tr>\n    <tr>\n      <th>1</th>\n      <td>Івано-Франківська область</td>\n      <td>ZNO</td>\n      <td>145.913723</td>\n      <td>0.476189</td>\n      <td>1.010503</td>\n      <td>3</td>\n    </tr>\n    <tr>\n      <th>2</th>\n      <td>Волинська область</td>\n      <td>EIT</td>\n      <td>145.800046</td>\n      <td>0.528326</td>\n      <td>1.012214</td>\n      <td>3</td>\n    </tr>\n    <tr>\n      <th>3</th>\n      <td>Волинська область</td>\n      <td>ZNO</td>\n      <td>146.013451</td>\n      <td>0.493993</td>\n      <td>1.011182</td>\n      <td>3</td>\n    </tr>\n    <tr>\n      <th>4</th>\n      <td>Вінницька область</td>\n      <td>EIT</td>\n      <td>143.778823</td>\n      <td>0.277182</td>\n      <td>0.998307</td>\n      <td>3</td>\n    </tr>\n    <tr>\n      <th>5</th>\n      <td>Вінницька область</td>\n      <td>ZNO</td>\n      <td>143.403667</td>\n      <td>0.266280</td>\n      <td>0.993115</td>\n      <td>3</td>\n    </tr>\n    <tr>\n      <th>6</th>\n      <td>Дніпропетровська область</td>\n      <td>EIT</td>\n      <td>142.629507</td>\n      <td>0.133678</td>\n      <td>0.990367</td>\n      <td>3</td>\n    </tr>\n    <tr>\n      <th>7</th>\n      <td>Дніпропетровська область</td>\n      <td>ZNO</td>\n      <td>143.307449</td>\n      <td>0.261358</td>\n      <td>0.992449</td>\n      <td>3</td>\n    </tr>\n    <tr>\n      <th>8</th>\n      <td>Донецька область</td>\n      <td>ZNO</td>\n      <td>143.179268</td>\n      <td>0.252377</td>\n      <td>0.991546</td>\n      <td>3</td>\n    </tr>\n    <tr>\n      <th>9</th>\n      <td>Житомирська область</td>\n      <td>EIT</td>\n      <td>142.693665</td>\n      <td>0.137109</td>\n      <td>0.990743</td>\n      <td>3</td>\n    </tr>\n    <tr>\n      <th>10</th>\n      <td>Житомирська область</td>\n      <td>ZNO</td>\n      <td>143.399627</td>\n      <td>0.273870</td>\n      <td>0.993086</td>\n      <td>3</td>\n    </tr>\n    <tr>\n      <th>11</th>\n      <td>Закарпатська область</td>\n      <td>EIT</td>\n      <td>142.203162</td>\n      <td>0.079485</td>\n      <td>0.987406</td>\n      <td>3</td>\n    </tr>\n    <tr>\n      <th>12</th>\n      <td>Закарпатська область</td>\n      <td>ZNO</td>\n      <td>140.013683</td>\n      <td>0.000000</td>\n      <td>0.969652</td>\n      <td>3</td>\n    </tr>\n    <tr>\n      <th>13</th>\n      <td>Запорізька область</td>\n      <td>EIT</td>\n      <td>142.592805</td>\n      <td>0.127818</td>\n      <td>0.990084</td>\n      <td>3</td>\n    </tr>\n    <tr>\n      <th>14</th>\n      <td>Запорізька область</td>\n      <td>ZNO</td>\n      <td>142.308087</td>\n      <td>0.182468</td>\n      <td>0.985521</td>\n      <td>3</td>\n    </tr>\n    <tr>\n      <th>15</th>\n      <td>Київська область</td>\n      <td>EIT</td>\n      <td>144.189309</td>\n      <td>0.333329</td>\n      <td>1.001237</td>\n      <td>3</td>\n    </tr>\n    <tr>\n      <th>16</th>\n      <td>Київська область</td>\n      <td>ZNO</td>\n      <td>144.900922</td>\n      <td>0.405059</td>\n      <td>1.003479</td>\n      <td>3</td>\n    </tr>\n    <tr>\n      <th>17</th>\n      <td>Кіровоградська область</td>\n      <td>EIT</td>\n      <td>142.346527</td>\n      <td>0.096497</td>\n      <td>0.988388</td>\n      <td>3</td>\n    </tr>\n    <tr>\n      <th>18</th>\n      <td>Кіровоградська область</td>\n      <td>ZNO</td>\n      <td>143.243741</td>\n      <td>0.259965</td>\n      <td>0.992000</td>\n      <td>3</td>\n    </tr>\n    <tr>\n      <th>19</th>\n      <td>Луганська область</td>\n      <td>ZNO</td>\n      <td>141.649793</td>\n      <td>0.129264</td>\n      <td>0.980967</td>\n      <td>3</td>\n    </tr>\n    <tr>\n      <th>20</th>\n      <td>Львівська область</td>\n      <td>EIT</td>\n      <td>149.154362</td>\n      <td>0.959787</td>\n      <td>1.035609</td>\n      <td>3</td>\n    </tr>\n    <tr>\n      <th>21</th>\n      <td>Львівська область</td>\n      <td>ZNO</td>\n      <td>150.310444</td>\n      <td>0.856854</td>\n      <td>1.040945</td>\n      <td>3</td>\n    </tr>\n    <tr>\n      <th>22</th>\n      <td>Миколаївська область</td>\n      <td>EIT</td>\n      <td>141.550920</td>\n      <td>0.000000</td>\n      <td>0.982970</td>\n      <td>3</td>\n    </tr>\n    <tr>\n      <th>23</th>\n      <td>Миколаївська область</td>\n      <td>ZNO</td>\n      <td>141.450480</td>\n      <td>0.107047</td>\n      <td>0.979576</td>\n      <td>3</td>\n    </tr>\n    <tr>\n      <th>24</th>\n      <td>Одеська область</td>\n      <td>EIT</td>\n      <td>143.148987</td>\n      <td>0.199761</td>\n      <td>0.994017</td>\n      <td>3</td>\n    </tr>\n    <tr>\n      <th>25</th>\n      <td>Одеська область</td>\n      <td>ZNO</td>\n      <td>143.323966</td>\n      <td>0.273952</td>\n      <td>0.992561</td>\n      <td>3</td>\n    </tr>\n    <tr>\n      <th>26</th>\n      <td>Полтавська область</td>\n      <td>EIT</td>\n      <td>142.803155</td>\n      <td>0.152937</td>\n      <td>0.991508</td>\n      <td>3</td>\n    </tr>\n    <tr>\n      <th>27</th>\n      <td>Полтавська область</td>\n      <td>ZNO</td>\n      <td>144.117040</td>\n      <td>0.330466</td>\n      <td>0.998043</td>\n      <td>3</td>\n    </tr>\n    <tr>\n      <th>28</th>\n      <td>Рівненська область</td>\n      <td>EIT</td>\n      <td>144.889733</td>\n      <td>0.412612</td>\n      <td>1.005884</td>\n      <td>3</td>\n    </tr>\n    <tr>\n      <th>29</th>\n      <td>Рівненська область</td>\n      <td>ZNO</td>\n      <td>144.770318</td>\n      <td>0.399388</td>\n      <td>1.002605</td>\n      <td>3</td>\n    </tr>\n    <tr>\n      <th>30</th>\n      <td>Сумська область</td>\n      <td>EIT</td>\n      <td>143.475425</td>\n      <td>0.237786</td>\n      <td>0.996172</td>\n      <td>3</td>\n    </tr>\n    <tr>\n      <th>31</th>\n      <td>Сумська область</td>\n      <td>ZNO</td>\n      <td>145.260605</td>\n      <td>0.427886</td>\n      <td>1.005973</td>\n      <td>3</td>\n    </tr>\n    <tr>\n      <th>32</th>\n      <td>Тернопільська область</td>\n      <td>EIT</td>\n      <td>144.479812</td>\n      <td>0.364303</td>\n      <td>1.003173</td>\n      <td>3</td>\n    </tr>\n    <tr>\n      <th>33</th>\n      <td>Тернопільська область</td>\n      <td>ZNO</td>\n      <td>145.855499</td>\n      <td>0.468446</td>\n      <td>1.010093</td>\n      <td>3</td>\n    </tr>\n    <tr>\n      <th>34</th>\n      <td>Харківська область</td>\n      <td>EIT</td>\n      <td>144.078200</td>\n      <td>0.316091</td>\n      <td>1.000370</td>\n      <td>3</td>\n    </tr>\n    <tr>\n      <th>35</th>\n      <td>Харківська область</td>\n      <td>ZNO</td>\n      <td>146.868692</td>\n      <td>0.566780</td>\n      <td>1.017104</td>\n      <td>3</td>\n    </tr>\n    <tr>\n      <th>36</th>\n      <td>Херсонська область</td>\n      <td>ZNO</td>\n      <td>142.231277</td>\n      <td>0.183135</td>\n      <td>0.984990</td>\n      <td>3</td>\n    </tr>\n    <tr>\n      <th>37</th>\n      <td>Хмельницька область</td>\n      <td>EIT</td>\n      <td>143.913597</td>\n      <td>0.296797</td>\n      <td>0.999314</td>\n      <td>3</td>\n    </tr>\n    <tr>\n      <th>38</th>\n      <td>Хмельницька область</td>\n      <td>ZNO</td>\n      <td>144.244719</td>\n      <td>0.343500</td>\n      <td>0.998943</td>\n      <td>3</td>\n    </tr>\n    <tr>\n      <th>39</th>\n      <td>Черкаська область</td>\n      <td>EIT</td>\n      <td>143.419747</td>\n      <td>0.231694</td>\n      <td>0.995801</td>\n      <td>3</td>\n    </tr>\n    <tr>\n      <th>40</th>\n      <td>Черкаська область</td>\n      <td>ZNO</td>\n      <td>144.436323</td>\n      <td>0.360470</td>\n      <td>1.000257</td>\n      <td>3</td>\n    </tr>\n    <tr>\n      <th>41</th>\n      <td>Чернівецька область</td>\n      <td>EIT</td>\n      <td>144.026835</td>\n      <td>0.307195</td>\n      <td>0.999921</td>\n      <td>3</td>\n    </tr>\n    <tr>\n      <th>42</th>\n      <td>Чернівецька область</td>\n      <td>ZNO</td>\n      <td>142.943746</td>\n      <td>0.248473</td>\n      <td>0.989950</td>\n      <td>3</td>\n    </tr>\n    <tr>\n      <th>43</th>\n      <td>Чернігівська область</td>\n      <td>EIT</td>\n      <td>143.730595</td>\n      <td>0.268630</td>\n      <td>0.997941</td>\n      <td>3</td>\n    </tr>\n    <tr>\n      <th>44</th>\n      <td>Чернігівська область</td>\n      <td>ZNO</td>\n      <td>144.736121</td>\n      <td>0.392523</td>\n      <td>1.002346</td>\n      <td>3</td>\n    </tr>\n    <tr>\n      <th>45</th>\n      <td>м.Київ</td>\n      <td>EIT</td>\n      <td>149.034660</td>\n      <td>0.951964</td>\n      <td>1.034977</td>\n      <td>3</td>\n    </tr>\n    <tr>\n      <th>46</th>\n      <td>м.Київ</td>\n      <td>ZNO</td>\n      <td>152.068224</td>\n      <td>1.000000</td>\n      <td>1.053115</td>\n      <td>3</td>\n    </tr>\n  </tbody>\n</table>\n</div>"
     },
     "execution_count": 63,
     "metadata": {},
     "output_type": "execute_result"
    }
   ],
   "source": [
    "summary = data.groupby(['region_name', 'source']).agg(\n",
    "    average_score_mean=('average_score', 'mean'),\n",
    "    score_norm_mean=('score_norm', 'mean'),\n",
    "    score_rel_mean=('score_rel', 'mean'),\n",
    "    count_years=('year', 'nunique')\n",
    ").reset_index()\n",
    "\n",
    "summary\n"
   ],
   "metadata": {
    "collapsed": false,
    "ExecuteTime": {
     "end_time": "2025-06-17T15:40:01.806625Z",
     "start_time": "2025-06-17T15:40:01.788830Z"
    }
   },
   "id": "388fd29ec3dba049"
  },
  {
   "cell_type": "code",
   "execution_count": 81,
   "outputs": [],
   "source": [
    "import altair as alt\n",
    "import pandas as pd\n",
    "import numpy as np\n",
    "\n",
    "# 1. Завантажуємо геодані України (регіони) через topojson\n",
    "ukraine = alt.topo_feature(\n",
    "    \"https://raw.githubusercontent.com/org-scn-design-studio-community/sdkcommunitymaps/master/geojson/Europe/Ukraine-regions.json\",\n",
    "    'UKR_adm1'\n",
    ")\n",
    "\n",
    "# 2. Маапінг українських назв регіонів до англійських назв у geojson\n",
    "mapping = {\n",
    "    \"Черкаська область\": \"Cherkasy\",\n",
    "    \"Чернігівська область\": \"Chernihiv\",\n",
    "    \"Чернівецька область\": \"Chernivtsi\",\n",
    "    \"Дніпропетровська область\": \"Dnipropetrovs'k\",\n",
    "    \"Донецька область\": \"Donets'k\",\n",
    "    \"Івано-Франківська область\": \"Ivano-Frankivs'k\",\n",
    "    \"Харківська область\": \"Kharkiv\",\n",
    "    \"Херсонська область\": \"Kherson\",\n",
    "    \"Хмельницька область\": \"Khmel'nyts'kyy\",\n",
    "    \"Київська область\": \"Kiev\",\n",
    "    \"Кіровоградська область\": \"Kirovohrad\",\n",
    "    \"Луганська область\": \"Luhans'k\",\n",
    "    \"Львівська область\": \"L'viv\",\n",
    "    \"Миколаївська область\": \"Mykolayiv\",\n",
    "    \"Одеська область\": \"Odessa\",\n",
    "    \"Полтавська область\": \"Poltava\",\n",
    "    \"Рівненська область\": \"Rivne\",\n",
    "    \"Сумська область\": \"Sumy\",\n",
    "    \"Тернопільська область\": \"Ternopil'\",\n",
    "    \"Вінницька область\": \"Vinnytsya\",\n",
    "    \"Волинська область\": \"Volyn\",\n",
    "    \"Закарпатська область\": \"Transcarpathia\",\n",
    "    \"Запорізька область\": \"Zaporizhzhya\",\n",
    "    \"Житомирська область\": \"Zhytomyr\",\n",
    "    \"м.Київ\": \"Kiev City\"\n",
    "}\n",
    "\n",
    "# 3. Підготовка даних для карти\n",
    "# Тут припускаємо, що у тебе є DataFrame `data` з колонками:\n",
    "# 'region_name' (укр), 'score_norm', 'year'\n",
    "\n",
    "# Зведемо по роках до двох періодів: до 2022 і з 2022 року\n",
    "before = data[data['year'] < 2022].groupby('region_name').agg(\n",
    "    mean_score=('score_norm', 'mean'),\n",
    "    count=('score_norm', 'count')\n",
    ").reset_index()\n",
    "\n",
    "after = data[data['year'] >= 2022].groupby('region_name').agg(\n",
    "    mean_score=('score_norm', 'mean'),\n",
    "    count=('score_norm', 'count')\n",
    ").reset_index()\n",
    "\n",
    "# Об'єднуємо для порівняння\n",
    "compare = before.merge(after, on='region_name', suffixes=('_before', '_after'))\n",
    "\n",
    "# Обчислення зміни із врахуванням ваг (кількості записів)\n",
    "compare['change'] = (\n",
    "    compare['mean_score_after'] * compare['count_after'] -\n",
    "    compare['mean_score_before'] * compare['count_before']\n",
    ") / (compare['count_before'] + compare['count_after'])\n",
    "\n",
    "# Мапінг до англійських назв для topojson\n",
    "compare['EORegName'] = compare['region_name'].map(mapping)\n",
    "\n",
    "# Додаємо Крим вручну, щоб не було помилок\n",
    "missing = pd.DataFrame({\n",
    "    'EORegName': ['Crimea'],\n",
    "    'change': [np.nan]\n",
    "})\n",
    "\n",
    "# Формуємо фінальний DataFrame для карти\n",
    "df_for_map = pd.concat([compare[['EORegName', 'change']], missing], ignore_index=True)\n",
    "\n",
    "# 4. Визначаємо області без заливки (білими)\n",
    "excluded_regions = [\"Crimea\", \"Luhans'k\", \"Donets'k\", \"Kherson\"]\n",
    "\n",
    "# 5. Функція побудови карти\n",
    "def ukraine_map(df):\n",
    "    base_map = (alt.Chart(ukraine).mark_geoshape(\n",
    "            stroke='black', strokeWidth=1\n",
    "        ).encode(\n",
    "            color=alt.Color(\"change:Q\", \n",
    "                            scale=alt.Scale(scheme='redyellowgreen', domainMid=0),\n",
    "                            title=\"Change in Score\"),\n",
    "            tooltip=[\n",
    "                alt.Tooltip(\"properties.NAME_1:N\", title=\"Region\"),\n",
    "                alt.Tooltip(\"change:Q\", title=\"Change\")\n",
    "            ]\n",
    "        ).transform_lookup(\n",
    "            lookup=\"properties.NAME_1\",\n",
    "            from_=alt.LookupData(df, key=\"EORegName\", fields=[\"EORegName\", \"change\"])\n",
    "        )\n",
    "        # Виключаємо області без заливки з основної заливки\n",
    "        .transform_filter(~alt.FieldOneOfPredicate(field='properties.NAME_1', oneOf=excluded_regions))\n",
    "    )\n",
    "\n",
    "    excluded_outline = (\n",
    "        alt.Chart(ukraine).mark_geoshape(\n",
    "            fill='white',  # Білий фон (без заливки)\n",
    "            stroke='black',\n",
    "            strokeWidth=1\n",
    "        ).transform_filter(\n",
    "            alt.FieldOneOfPredicate(field='properties.NAME_1', oneOf=excluded_regions)\n",
    "        )\n",
    "    )\n",
    "\n",
    "    final_map = (base_map + excluded_outline).properties(\n",
    "        width=800,\n",
    "        height=600,\n",
    "        title=\"Changes normalized score in EIT comparing to the NMT\"\n",
    "    )\n",
    "\n",
    "    return final_map\n",
    "\n",
    "# 6. Відображаємо карту\n",
    "ukraine_map(df_for_map)\n",
    "chart = ukraine_map(df_for_map)\n",
    "\n",
    "chart.save('ukraine_map.html')\n"
   ],
   "metadata": {
    "collapsed": false,
    "ExecuteTime": {
     "end_time": "2025-06-17T17:23:28.914172Z",
     "start_time": "2025-06-17T17:23:28.898216Z"
    }
   },
   "id": "5e09ce432ac33e55"
  },
  {
   "cell_type": "code",
   "execution_count": 75,
   "outputs": [
    {
     "data": {
      "text/html": "\n<style>\n  #altair-viz-9851172fdf6a476ca529a45e209aecbf.vega-embed {\n    width: 100%;\n    display: flex;\n  }\n\n  #altair-viz-9851172fdf6a476ca529a45e209aecbf.vega-embed details,\n  #altair-viz-9851172fdf6a476ca529a45e209aecbf.vega-embed details summary {\n    position: relative;\n  }\n</style>\n<div id=\"altair-viz-9851172fdf6a476ca529a45e209aecbf\"></div>\n<script type=\"text/javascript\">\n  var VEGA_DEBUG = (typeof VEGA_DEBUG == \"undefined\") ? {} : VEGA_DEBUG;\n  (function(spec, embedOpt){\n    let outputDiv = document.currentScript.previousElementSibling;\n    if (outputDiv.id !== \"altair-viz-9851172fdf6a476ca529a45e209aecbf\") {\n      outputDiv = document.getElementById(\"altair-viz-9851172fdf6a476ca529a45e209aecbf\");\n    }\n\n    const paths = {\n      \"vega\": \"https://cdn.jsdelivr.net/npm/vega@5?noext\",\n      \"vega-lib\": \"https://cdn.jsdelivr.net/npm/vega-lib?noext\",\n      \"vega-lite\": \"https://cdn.jsdelivr.net/npm/vega-lite@5.20.1?noext\",\n      \"vega-embed\": \"https://cdn.jsdelivr.net/npm/vega-embed@6?noext\",\n    };\n\n    function maybeLoadScript(lib, version) {\n      var key = `${lib.replace(\"-\", \"\")}_version`;\n      return (VEGA_DEBUG[key] == version) ?\n        Promise.resolve(paths[lib]) :\n        new Promise(function(resolve, reject) {\n          var s = document.createElement('script');\n          document.getElementsByTagName(\"head\")[0].appendChild(s);\n          s.async = true;\n          s.onload = () => {\n            VEGA_DEBUG[key] = version;\n            return resolve(paths[lib]);\n          };\n          s.onerror = () => reject(`Error loading script: ${paths[lib]}`);\n          s.src = paths[lib];\n        });\n    }\n\n    function showError(err) {\n      outputDiv.innerHTML = `<div class=\"error\" style=\"color:red;\">${err}</div>`;\n      throw err;\n    }\n\n    function displayChart(vegaEmbed) {\n      vegaEmbed(outputDiv, spec, embedOpt)\n        .catch(err => showError(`Javascript Error: ${err.message}<br>This usually means there's a typo in your chart specification. See the javascript console for the full traceback.`));\n    }\n\n    if(typeof define === \"function\" && define.amd) {\n      requirejs.config({paths});\n      let deps = [\"vega-embed\"];\n      require(deps, displayChart, err => showError(`Error loading script: ${err.message}`));\n    } else {\n      maybeLoadScript(\"vega\", \"5\")\n        .then(() => maybeLoadScript(\"vega-lite\", \"5.20.1\"))\n        .then(() => maybeLoadScript(\"vega-embed\", \"6\"))\n        .catch(showError)\n        .then(() => displayChart(vegaEmbed));\n    }\n  })({\"config\": {\"view\": {\"continuousWidth\": 300, \"continuousHeight\": 300}}, \"layer\": [{\"mark\": {\"type\": \"geoshape\", \"stroke\": \"black\", \"strokeWidth\": 1}, \"encoding\": {\"color\": {\"field\": \"change\", \"scale\": {\"domainMid\": 0, \"scheme\": \"redyellowgreen\"}, \"title\": \"Change in Score\", \"type\": \"quantitative\"}, \"tooltip\": [{\"field\": \"properties.NAME_1\", \"title\": \"Region\", \"type\": \"nominal\"}, {\"field\": \"change\", \"title\": \"Change\", \"type\": \"quantitative\"}]}, \"transform\": [{\"lookup\": \"properties.NAME_1\", \"from\": {\"data\": {\"name\": \"data-bb464f39349a226b8e00fa37aee3e38b\"}, \"key\": \"EORegName\", \"fields\": [\"EORegName\", \"change\"]}}, {\"filter\": {\"not\": {\"field\": \"properties.NAME_1\", \"oneOf\": [\"Crimea\", \"Luhans'k\", \"Donets'k\", \"Kherson\"]}}}]}, {\"mark\": {\"type\": \"geoshape\", \"fill\": \"white\", \"stroke\": \"black\", \"strokeWidth\": 1}, \"transform\": [{\"filter\": {\"field\": \"properties.NAME_1\", \"oneOf\": [\"Crimea\", \"Luhans'k\", \"Donets'k\", \"Kherson\"]}}]}], \"data\": {\"url\": \"https://raw.githubusercontent.com/org-scn-design-studio-community/sdkcommunitymaps/master/geojson/Europe/Ukraine-regions.json\", \"format\": {\"feature\": \"UKR_adm1\", \"type\": \"topojson\"}}, \"height\": 600, \"title\": \"Changes normalized score in EIT comparing to the NMT\", \"width\": 800, \"$schema\": \"https://vega.github.io/schema/vega-lite/v5.20.1.json\", \"datasets\": {\"data-bb464f39349a226b8e00fa37aee3e38b\": [{\"EORegName\": \"Ivano-Frankivs'k\", \"change\": -0.004286900151707111}, {\"EORegName\": \"Volyn\", \"change\": -0.002026404878340345}, {\"EORegName\": \"Vinnytsya\", \"change\": 0.005378792645452712}, {\"EORegName\": \"Dnipropetrovs'k\", \"change\": 0.00014830249182244218}, {\"EORegName\": \"Zhytomyr\", \"change\": 0.0011650412624930606}, {\"EORegName\": \"Transcarpathia\", \"change\": -0.00044797663430418133}, {\"EORegName\": \"Zaporizhzhya\", \"change\": 0.003570435821194984}, {\"EORegName\": \"Kiev\", \"change\": -0.0010109891068385373}, {\"EORegName\": \"Kirovohrad\", \"change\": -0.00018964050839668603}, {\"EORegName\": \"L'viv\", \"change\": -2.828195972733501e-05}, {\"EORegName\": \"Mykolayiv\", \"change\": 0.0019154566303963467}, {\"EORegName\": \"Odessa\", \"change\": 0.0030012783148188524}, {\"EORegName\": \"Poltava\", \"change\": -0.003144033854962943}, {\"EORegName\": \"Rivne\", \"change\": -0.001734649505573449}, {\"EORegName\": \"Sumy\", \"change\": -0.004754847766481533}, {\"EORegName\": \"Ternopil'\", \"change\": -0.003621646975624208}, {\"EORegName\": \"Kharkiv\", \"change\": -0.00652736010585427}, {\"EORegName\": \"Khmel'nyts'kyy\", \"change\": 0.0013492768563051853}, {\"EORegName\": \"Cherkasy\", \"change\": -0.0036405870581684616}, {\"EORegName\": \"Chernivtsi\", \"change\": -0.0001694683877617731}, {\"EORegName\": \"Chernihiv\", \"change\": -0.001945549524904111}, {\"EORegName\": \"Kiev City\", \"change\": -0.008618067461924506}, {\"EORegName\": \"Crimea\", \"change\": null}]}}, {\"mode\": \"vega-lite\"});\n</script>",
      "text/plain": "alt.LayerChart(...)"
     },
     "execution_count": 75,
     "metadata": {},
     "output_type": "execute_result"
    }
   ],
   "source": [
    "import altair as alt\n",
    "import pandas as pd\n",
    "import numpy as np\n",
    "\n",
    "# 1. Завантажуємо геодані України (регіони) через topojson\n",
    "ukraine = alt.topo_feature(\n",
    "    \"https://raw.githubusercontent.com/org-scn-design-studio-community/sdkcommunitymaps/master/geojson/Europe/Ukraine-regions.json\",\n",
    "    'UKR_adm1'\n",
    ")\n",
    "\n",
    "# 2. Маапінг українських назв регіонів до англійських назв у geojson\n",
    "mapping = {\n",
    "    \"Черкаська область\": \"Cherkasy\",\n",
    "    \"Чернігівська область\": \"Chernihiv\",\n",
    "    \"Чернівецька область\": \"Chernivtsi\",\n",
    "    \"Дніпропетровська область\": \"Dnipropetrovs'k\",\n",
    "    \"Донецька область\": \"Donets'k\",\n",
    "    \"Івано-Франківська область\": \"Ivano-Frankivs'k\",\n",
    "    \"Харківська область\": \"Kharkiv\",\n",
    "    \"Херсонська область\": \"Kherson\",\n",
    "    \"Хмельницька область\": \"Khmel'nyts'kyy\",\n",
    "    \"Київська область\": \"Kiev\",\n",
    "    \"Кіровоградська область\": \"Kirovohrad\",\n",
    "    \"Луганська область\": \"Luhans'k\",\n",
    "    \"Львівська область\": \"L'viv\",\n",
    "    \"Миколаївська область\": \"Mykolayiv\",\n",
    "    \"Одеська область\": \"Odessa\",\n",
    "    \"Полтавська область\": \"Poltava\",\n",
    "    \"Рівненська область\": \"Rivne\",\n",
    "    \"Сумська область\": \"Sumy\",\n",
    "    \"Тернопільська область\": \"Ternopil'\",\n",
    "    \"Вінницька область\": \"Vinnytsya\",\n",
    "    \"Волинська область\": \"Volyn\",\n",
    "    \"Закарпатська область\": \"Transcarpathia\",\n",
    "    \"Запорізька область\": \"Zaporizhzhya\",\n",
    "    \"Житомирська область\": \"Zhytomyr\",\n",
    "    \"м.Київ\": \"Kiev City\"\n",
    "}\n",
    "\n",
    "# 3. Підготовка даних для карти\n",
    "# Тут припускаємо, що у тебе є DataFrame `data` з колонками:\n",
    "# 'region_name' (укр), 'score_norm', 'year'\n",
    "\n",
    "# Зведемо по роках до двох періодів: до 2022 і з 2022 року\n",
    "before = data[data['year'] < 2022].groupby('region_name').agg(\n",
    "    mean_score=('score_rel', 'mean'),\n",
    "    count=('score_rel', 'count')\n",
    ").reset_index()\n",
    "\n",
    "after = data[data['year'] >= 2022].groupby('region_name').agg(\n",
    "    mean_score=('score_rel', 'mean'),\n",
    "    count=('score_rel', 'count')\n",
    ").reset_index()\n",
    "\n",
    "# Об'єднуємо для порівняння\n",
    "compare = before.merge(after, on='region_name', suffixes=('_before', '_after'))\n",
    "\n",
    "# Обчислення зміни із врахуванням ваг (кількості записів)\n",
    "compare['change'] = (\n",
    "    compare['mean_score_after'] * compare['count_after'] -\n",
    "    compare['mean_score_before'] * compare['count_before']\n",
    ") / (compare['count_before'] + compare['count_after'])\n",
    "\n",
    "# Мапінг до англійських назв для topojson\n",
    "compare['EORegName'] = compare['region_name'].map(mapping)\n",
    "\n",
    "# Додаємо Крим вручну, щоб не було помилок\n",
    "missing = pd.DataFrame({\n",
    "    'EORegName': ['Crimea'],\n",
    "    'change': [np.nan]\n",
    "})\n",
    "\n",
    "# Формуємо фінальний DataFrame для карти\n",
    "df_for_map = pd.concat([compare[['EORegName', 'change']], missing], ignore_index=True)\n",
    "\n",
    "# 4. Визначаємо області без заливки (білими)\n",
    "excluded_regions = [\"Crimea\", \"Luhans'k\", \"Donets'k\", \"Kherson\"]\n",
    "\n",
    "# 5. Функція побудови карти\n",
    "def ukraine_map(df):\n",
    "    base_map = (alt.Chart(ukraine).mark_geoshape(\n",
    "            stroke='black', strokeWidth=1\n",
    "        ).encode(\n",
    "            color=alt.Color(\"change:Q\", \n",
    "                            scale=alt.Scale(scheme='redyellowgreen', domainMid=0),\n",
    "                            title=\"Change in Score\"),\n",
    "            tooltip=[\n",
    "                alt.Tooltip(\"properties.NAME_1:N\", title=\"Region\"),\n",
    "                alt.Tooltip(\"change:Q\", title=\"Change\")\n",
    "            ]\n",
    "        ).transform_lookup(\n",
    "            lookup=\"properties.NAME_1\",\n",
    "            from_=alt.LookupData(df, key=\"EORegName\", fields=[\"EORegName\", \"change\"])\n",
    "        )\n",
    "        # Виключаємо області без заливки з основної заливки\n",
    "        .transform_filter(~alt.FieldOneOfPredicate(field='properties.NAME_1', oneOf=excluded_regions))\n",
    "    )\n",
    "\n",
    "    excluded_outline = (\n",
    "        alt.Chart(ukraine).mark_geoshape(\n",
    "            fill='white',  # Білий фон (без заливки)\n",
    "            stroke='black',\n",
    "            strokeWidth=1\n",
    "        ).transform_filter(\n",
    "            alt.FieldOneOfPredicate(field='properties.NAME_1', oneOf=excluded_regions)\n",
    "        )\n",
    "    )\n",
    "\n",
    "    final_map = (base_map + excluded_outline).properties(\n",
    "        width=800,\n",
    "        height=600,\n",
    "        title=\"Changes normalized score in EIT comparing to the NMT\"\n",
    "    )\n",
    "\n",
    "    return final_map\n",
    "\n",
    "# 6. Відображаємо карту\n",
    "ukraine_map(df_for_map)\n"
   ],
   "metadata": {
    "collapsed": false,
    "ExecuteTime": {
     "end_time": "2025-06-17T17:17:15.900302Z",
     "start_time": "2025-06-17T17:17:15.851511Z"
    }
   },
   "id": "2481e28bc07b9910"
  },
  {
   "cell_type": "code",
   "execution_count": 74,
   "outputs": [
    {
     "data": {
      "text/plain": "                   region_name  average_score  year source  score_norm  \\\n0    Івано-Франківська область     149.334603  2020    ZNO    0.578887   \n1            Волинська область     148.794666  2020    ZNO    0.531764   \n2            Вінницька область     144.970217  2020    ZNO    0.197989   \n3     Дніпропетровська область     145.102046  2020    ZNO    0.209494   \n4             Донецька область     143.967670  2020    ZNO    0.110493   \n..                         ...            ...   ...    ...         ...   \n136        Хмельницька область     139.375244  2024    EIT    0.285166   \n137          Черкаська область     138.331308  2024    EIT    0.147698   \n138        Чернівецька область     138.119851  2024    EIT    0.119853   \n139       Чернігівська область     138.846084  2024    EIT    0.215485   \n140                     м.Київ     144.803706  2024    EIT    1.000000   \n\n     score_rel  \n0     1.019871  \n1     1.016183  \n2     0.990065  \n3     0.990965  \n4     0.983218  \n..         ...  \n136   1.002219  \n137   0.994712  \n138   0.993192  \n139   0.998414  \n140   1.041254  \n\n[141 rows x 6 columns]",
      "text/html": "<div>\n<style scoped>\n    .dataframe tbody tr th:only-of-type {\n        vertical-align: middle;\n    }\n\n    .dataframe tbody tr th {\n        vertical-align: top;\n    }\n\n    .dataframe thead th {\n        text-align: right;\n    }\n</style>\n<table border=\"1\" class=\"dataframe\">\n  <thead>\n    <tr style=\"text-align: right;\">\n      <th></th>\n      <th>region_name</th>\n      <th>average_score</th>\n      <th>year</th>\n      <th>source</th>\n      <th>score_norm</th>\n      <th>score_rel</th>\n    </tr>\n  </thead>\n  <tbody>\n    <tr>\n      <th>0</th>\n      <td>Івано-Франківська область</td>\n      <td>149.334603</td>\n      <td>2020</td>\n      <td>ZNO</td>\n      <td>0.578887</td>\n      <td>1.019871</td>\n    </tr>\n    <tr>\n      <th>1</th>\n      <td>Волинська область</td>\n      <td>148.794666</td>\n      <td>2020</td>\n      <td>ZNO</td>\n      <td>0.531764</td>\n      <td>1.016183</td>\n    </tr>\n    <tr>\n      <th>2</th>\n      <td>Вінницька область</td>\n      <td>144.970217</td>\n      <td>2020</td>\n      <td>ZNO</td>\n      <td>0.197989</td>\n      <td>0.990065</td>\n    </tr>\n    <tr>\n      <th>3</th>\n      <td>Дніпропетровська область</td>\n      <td>145.102046</td>\n      <td>2020</td>\n      <td>ZNO</td>\n      <td>0.209494</td>\n      <td>0.990965</td>\n    </tr>\n    <tr>\n      <th>4</th>\n      <td>Донецька область</td>\n      <td>143.967670</td>\n      <td>2020</td>\n      <td>ZNO</td>\n      <td>0.110493</td>\n      <td>0.983218</td>\n    </tr>\n    <tr>\n      <th>...</th>\n      <td>...</td>\n      <td>...</td>\n      <td>...</td>\n      <td>...</td>\n      <td>...</td>\n      <td>...</td>\n    </tr>\n    <tr>\n      <th>136</th>\n      <td>Хмельницька область</td>\n      <td>139.375244</td>\n      <td>2024</td>\n      <td>EIT</td>\n      <td>0.285166</td>\n      <td>1.002219</td>\n    </tr>\n    <tr>\n      <th>137</th>\n      <td>Черкаська область</td>\n      <td>138.331308</td>\n      <td>2024</td>\n      <td>EIT</td>\n      <td>0.147698</td>\n      <td>0.994712</td>\n    </tr>\n    <tr>\n      <th>138</th>\n      <td>Чернівецька область</td>\n      <td>138.119851</td>\n      <td>2024</td>\n      <td>EIT</td>\n      <td>0.119853</td>\n      <td>0.993192</td>\n    </tr>\n    <tr>\n      <th>139</th>\n      <td>Чернігівська область</td>\n      <td>138.846084</td>\n      <td>2024</td>\n      <td>EIT</td>\n      <td>0.215485</td>\n      <td>0.998414</td>\n    </tr>\n    <tr>\n      <th>140</th>\n      <td>м.Київ</td>\n      <td>144.803706</td>\n      <td>2024</td>\n      <td>EIT</td>\n      <td>1.000000</td>\n      <td>1.041254</td>\n    </tr>\n  </tbody>\n</table>\n<p>141 rows × 6 columns</p>\n</div>"
     },
     "execution_count": 74,
     "metadata": {},
     "output_type": "execute_result"
    }
   ],
   "source": [
    "data"
   ],
   "metadata": {
    "collapsed": false,
    "ExecuteTime": {
     "end_time": "2025-06-17T17:12:48.376141Z",
     "start_time": "2025-06-17T17:12:48.364820Z"
    }
   },
   "id": "c9d7ad43024f7c52"
  },
  {
   "cell_type": "code",
   "execution_count": 43,
   "outputs": [
    {
     "name": "stderr",
     "output_type": "stream",
     "text": [
      "/var/folders/5r/4d3mqngx3c3bynq7lh4_h3tr0000gn/T/ipykernel_16227/3577932667.py:18: DtypeWarning: Columns (96,97,100,102,103,104,105,116,117,120,122,123,124,125) have mixed types. Specify dtype option on import or set low_memory=False.\n",
      "  df = pd.read_csv(path)\n",
      "/var/folders/5r/4d3mqngx3c3bynq7lh4_h3tr0000gn/T/ipykernel_16227/3577932667.py:18: DtypeWarning: Columns (117,118,121,123,124,125,126,137,138,141,143,144,145,146) have mixed types. Specify dtype option on import or set low_memory=False.\n",
      "  df = pd.read_csv(path)\n",
      "/var/folders/5r/4d3mqngx3c3bynq7lh4_h3tr0000gn/T/ipykernel_16227/3577932667.py:18: DtypeWarning: Columns (8,9,10,11,12,13) have mixed types. Specify dtype option on import or set low_memory=False.\n",
      "  df = pd.read_csv(path)\n",
      "/var/folders/5r/4d3mqngx3c3bynq7lh4_h3tr0000gn/T/ipykernel_16227/3577932667.py:18: DtypeWarning: Columns (100,116,117,120,122,123,124,125) have mixed types. Specify dtype option on import or set low_memory=False.\n",
      "  df = pd.read_csv(path)\n"
     ]
    },
    {
     "name": "stdout",
     "output_type": "stream",
     "text": [
      "                 region_name  count  year source\n",
      "0  Івано-Франківська область   7007  2020    ZNO\n",
      "1          Волинська область   6063  2020    ZNO\n",
      "2          Вінницька область   8521  2020    ZNO\n",
      "3   Дніпропетровська область  16493  2020    ZNO\n",
      "4           Донецька область   8051  2020    ZNO\n"
     ]
    }
   ],
   "source": [
    "import pandas as pd\n",
    "import os\n",
    "import re\n",
    "\n",
    "folder_path = 'filtered_data'\n",
    "dfs = []\n",
    "\n",
    "for file in os.listdir(folder_path):\n",
    "    if file.endswith('.csv'):\n",
    "        year_match = re.search(r'(\\d{4})', file)\n",
    "        if not year_match:\n",
    "            continue\n",
    "        year = int(year_match.group(1))\n",
    "        \n",
    "        source = 'ZNO' if year < 2022 else 'EIT'\n",
    "        \n",
    "        path = os.path.join(folder_path, file)\n",
    "        df = pd.read_csv(path)\n",
    "\n",
    "        if 'region_name' in df.columns and 'average_score' in df.columns:\n",
    "            grouped = df.groupby('region_name', as_index=False)['average_score'].count()\n",
    "            grouped = grouped.rename(columns={'average_score': 'count'})\n",
    "            grouped['year'] = year\n",
    "            grouped['source'] = source\n",
    "            dfs.append(grouped)\n",
    "\n",
    "data = pd.concat(dfs, ignore_index=True)\n",
    "print(data.head())\n"
   ],
   "metadata": {
    "collapsed": false,
    "ExecuteTime": {
     "end_time": "2025-06-17T15:15:32.415707Z",
     "start_time": "2025-06-17T15:15:13.015855Z"
    }
   },
   "id": "7c64f5664d84622b"
  },
  {
   "cell_type": "code",
   "execution_count": 44,
   "outputs": [
    {
     "data": {
      "text/plain": "                   region_name  count  year source\n0    Івано-Франківська область   7007  2020    ZNO\n1            Волинська область   6063  2020    ZNO\n2            Вінницька область   8521  2020    ZNO\n3     Дніпропетровська область  16493  2020    ZNO\n4             Донецька область   8051  2020    ZNO\n..                         ...    ...   ...    ...\n147        Хмельницька область   9955  2024    EIT\n148          Черкаська область   8458  2024    EIT\n149        Чернівецька область   6060  2024    EIT\n150       Чернігівська область   6557  2024    EIT\n151                     м.Київ  29427  2024    EIT\n\n[152 rows x 4 columns]",
      "text/html": "<div>\n<style scoped>\n    .dataframe tbody tr th:only-of-type {\n        vertical-align: middle;\n    }\n\n    .dataframe tbody tr th {\n        vertical-align: top;\n    }\n\n    .dataframe thead th {\n        text-align: right;\n    }\n</style>\n<table border=\"1\" class=\"dataframe\">\n  <thead>\n    <tr style=\"text-align: right;\">\n      <th></th>\n      <th>region_name</th>\n      <th>count</th>\n      <th>year</th>\n      <th>source</th>\n    </tr>\n  </thead>\n  <tbody>\n    <tr>\n      <th>0</th>\n      <td>Івано-Франківська область</td>\n      <td>7007</td>\n      <td>2020</td>\n      <td>ZNO</td>\n    </tr>\n    <tr>\n      <th>1</th>\n      <td>Волинська область</td>\n      <td>6063</td>\n      <td>2020</td>\n      <td>ZNO</td>\n    </tr>\n    <tr>\n      <th>2</th>\n      <td>Вінницька область</td>\n      <td>8521</td>\n      <td>2020</td>\n      <td>ZNO</td>\n    </tr>\n    <tr>\n      <th>3</th>\n      <td>Дніпропетровська область</td>\n      <td>16493</td>\n      <td>2020</td>\n      <td>ZNO</td>\n    </tr>\n    <tr>\n      <th>4</th>\n      <td>Донецька область</td>\n      <td>8051</td>\n      <td>2020</td>\n      <td>ZNO</td>\n    </tr>\n    <tr>\n      <th>...</th>\n      <td>...</td>\n      <td>...</td>\n      <td>...</td>\n      <td>...</td>\n    </tr>\n    <tr>\n      <th>147</th>\n      <td>Хмельницька область</td>\n      <td>9955</td>\n      <td>2024</td>\n      <td>EIT</td>\n    </tr>\n    <tr>\n      <th>148</th>\n      <td>Черкаська область</td>\n      <td>8458</td>\n      <td>2024</td>\n      <td>EIT</td>\n    </tr>\n    <tr>\n      <th>149</th>\n      <td>Чернівецька область</td>\n      <td>6060</td>\n      <td>2024</td>\n      <td>EIT</td>\n    </tr>\n    <tr>\n      <th>150</th>\n      <td>Чернігівська область</td>\n      <td>6557</td>\n      <td>2024</td>\n      <td>EIT</td>\n    </tr>\n    <tr>\n      <th>151</th>\n      <td>м.Київ</td>\n      <td>29427</td>\n      <td>2024</td>\n      <td>EIT</td>\n    </tr>\n  </tbody>\n</table>\n<p>152 rows × 4 columns</p>\n</div>"
     },
     "execution_count": 44,
     "metadata": {},
     "output_type": "execute_result"
    }
   ],
   "source": [
    "data"
   ],
   "metadata": {
    "collapsed": false,
    "ExecuteTime": {
     "end_time": "2025-06-17T15:15:56.091869Z",
     "start_time": "2025-06-17T15:15:56.085333Z"
    }
   },
   "id": "b72a9cdd7e1e1bb1"
  },
  {
   "cell_type": "code",
   "execution_count": 66,
   "outputs": [
    {
     "name": "stderr",
     "output_type": "stream",
     "text": [
      "/var/folders/5r/4d3mqngx3c3bynq7lh4_h3tr0000gn/T/ipykernel_16227/1942552290.py:1: DtypeWarning: Columns (96,97,100,102,103,104,105,116,117,120,122,123,124,125) have mixed types. Specify dtype option on import or set low_memory=False.\n",
      "  df = pd.read_csv(\"filtered_data/2020.csv\")\n"
     ]
    },
    {
     "data": {
      "text/plain": "                                          id  birth_year    gender  \\\n0       1f6c1a4f-8c8a-45c5-bc6c-0eaaeb3a2c30        2003  чоловіча   \n1       4ba3e361-8e8c-48c1-830d-1ea85b9d4c77        2003  чоловіча   \n2       a7d7800a-e850-4307-b79a-98d96924ef05        2002  чоловіча   \n3       e73ff63a-9fd7-43dd-86d7-c5c53ba6e865        2003  чоловіча   \n4       0b95a736-7ad9-49db-854a-abdb959f02f4        2003    жіноча   \n...                                      ...         ...       ...   \n201207  b9cb08b0-e084-488c-85ee-b8da94de04f5        2003  чоловіча   \n201208  7d3d693a-09b8-48f9-8c6e-01671aafcdca        2003    жіноча   \n201209  4906881e-b034-440d-ac42-6df966fa8077        2003  чоловіча   \n201210  90437a9b-94cc-4e26-8390-afdd987c0958        2003  чоловіча   \n201211  a76b934b-6779-47b0-a535-f598335076dd        2003    жіноча   \n\n                      region_name                  area_name  \\\n0                Донецька область                м.Маріуполь   \n1              Полтавська область        Миргородський район   \n2                          м.Київ                     м.Київ   \n3                 Сумська область            Сумська область   \n4               Львівська область                    м.Львів   \n...                           ...                        ...   \n201207       Чернігівська область       Чернігівська область   \n201208            Одеська область                    м.Одеса   \n201209  Івано-Франківська область  Івано-Франківська область   \n201210         Полтавська область         Полтавська область   \n201211                     м.Київ                     м.Київ   \n\n                   territory_name  \\\n0         Приморський район міста   \n1                      с.Хомутець   \n2       Святошинський район міста   \n3                       м.Конотоп   \n4           Галицький район міста   \n...                           ...   \n201207                  м.Прилуки   \n201208    Приморський район міста   \n201209                    м.Калуш   \n201210                    м.Лубни   \n201211    Деснянський район міста   \n\n                                              region_type territory_type  \\\n0       випускник закладу загальної середньої освіти 2...          місто   \n1       випускник закладу загальної середньої освіти 2...           село   \n2       випускник закладу загальної середньої освіти 2...          місто   \n3                            Студент закладу вищої освіти          місто   \n4       випускник закладу загальної середньої освіти 2...          місто   \n...                                                   ...            ...   \n201207  випускник закладу загальної середньої освіти 2...          місто   \n201208                       Студент закладу вищої освіти          місто   \n201209  випускник закладу загальної середньої освіти 2...          місто   \n201210  випускник закладу загальної середньої освіти 2...          місто   \n201211  випускник закладу загальної середньої освіти 2...          місто   \n\n                     class_profile class_language  ... spanish_score  \\\n0                       Історичний      російська  ...           NaN   \n1            Української філології     українська  ...           NaN   \n2                    Універсальний     українська  ...           NaN   \n3              Молодший спеціаліст     українська  ...           NaN   \n4                    Універсальний     українська  ...           NaN   \n...                            ...            ...  ...           ...   \n201207  Інформаційно-технологічний     українська  ...           NaN   \n201208         Молодший спеціаліст     українська  ...           NaN   \n201209                  Історичний     українська  ...           NaN   \n201210         Фізико-математичний     українська  ...           NaN   \n201211         Іноземної філології     українська  ...           NaN   \n\n       spanish_pt_name spanish_pt_region spanish_pt_area spanish_pt_territory  \\\n0                  NaN               NaN             NaN                  NaN   \n1                  NaN               NaN             NaN                  NaN   \n2                  NaN               NaN             NaN                  NaN   \n3                  NaN               NaN             NaN                  NaN   \n4                  NaN               NaN             NaN                  NaN   \n...                ...               ...             ...                  ...   \n201207             NaN               NaN             NaN                  NaN   \n201208             NaN               NaN             NaN                  NaN   \n201209             NaN               NaN             NaN                  NaN   \n201210             NaN               NaN             NaN                  NaN   \n201211             NaN               NaN             NaN                  NaN   \n\n       student_age region_flag subjects_count  total_score  average_score  \n0               17        east              4        437.0     109.250000  \n1               17     central              3        421.0     140.333333  \n2               18       other              4        514.0     128.500000  \n3               17       north              3        387.0     129.000000  \n4               17        west              4        602.0     150.500000  \n...            ...         ...            ...          ...            ...  \n201207          17       north              4        709.0     177.250000  \n201208          17       south              3        381.0     127.000000  \n201209          17        west              3        593.5     197.833333  \n201210          17     central              3        407.0     135.666667  \n201211          17       other              3        584.5     194.833333  \n\n[201212 rows x 131 columns]",
      "text/html": "<div>\n<style scoped>\n    .dataframe tbody tr th:only-of-type {\n        vertical-align: middle;\n    }\n\n    .dataframe tbody tr th {\n        vertical-align: top;\n    }\n\n    .dataframe thead th {\n        text-align: right;\n    }\n</style>\n<table border=\"1\" class=\"dataframe\">\n  <thead>\n    <tr style=\"text-align: right;\">\n      <th></th>\n      <th>id</th>\n      <th>birth_year</th>\n      <th>gender</th>\n      <th>region_name</th>\n      <th>area_name</th>\n      <th>territory_name</th>\n      <th>region_type</th>\n      <th>territory_type</th>\n      <th>class_profile</th>\n      <th>class_language</th>\n      <th>...</th>\n      <th>spanish_score</th>\n      <th>spanish_pt_name</th>\n      <th>spanish_pt_region</th>\n      <th>spanish_pt_area</th>\n      <th>spanish_pt_territory</th>\n      <th>student_age</th>\n      <th>region_flag</th>\n      <th>subjects_count</th>\n      <th>total_score</th>\n      <th>average_score</th>\n    </tr>\n  </thead>\n  <tbody>\n    <tr>\n      <th>0</th>\n      <td>1f6c1a4f-8c8a-45c5-bc6c-0eaaeb3a2c30</td>\n      <td>2003</td>\n      <td>чоловіча</td>\n      <td>Донецька область</td>\n      <td>м.Маріуполь</td>\n      <td>Приморський район міста</td>\n      <td>випускник закладу загальної середньої освіти 2...</td>\n      <td>місто</td>\n      <td>Історичний</td>\n      <td>російська</td>\n      <td>...</td>\n      <td>NaN</td>\n      <td>NaN</td>\n      <td>NaN</td>\n      <td>NaN</td>\n      <td>NaN</td>\n      <td>17</td>\n      <td>east</td>\n      <td>4</td>\n      <td>437.0</td>\n      <td>109.250000</td>\n    </tr>\n    <tr>\n      <th>1</th>\n      <td>4ba3e361-8e8c-48c1-830d-1ea85b9d4c77</td>\n      <td>2003</td>\n      <td>чоловіча</td>\n      <td>Полтавська область</td>\n      <td>Миргородський район</td>\n      <td>с.Хомутець</td>\n      <td>випускник закладу загальної середньої освіти 2...</td>\n      <td>село</td>\n      <td>Української філології</td>\n      <td>українська</td>\n      <td>...</td>\n      <td>NaN</td>\n      <td>NaN</td>\n      <td>NaN</td>\n      <td>NaN</td>\n      <td>NaN</td>\n      <td>17</td>\n      <td>central</td>\n      <td>3</td>\n      <td>421.0</td>\n      <td>140.333333</td>\n    </tr>\n    <tr>\n      <th>2</th>\n      <td>a7d7800a-e850-4307-b79a-98d96924ef05</td>\n      <td>2002</td>\n      <td>чоловіча</td>\n      <td>м.Київ</td>\n      <td>м.Київ</td>\n      <td>Святошинський район міста</td>\n      <td>випускник закладу загальної середньої освіти 2...</td>\n      <td>місто</td>\n      <td>Універсальний</td>\n      <td>українська</td>\n      <td>...</td>\n      <td>NaN</td>\n      <td>NaN</td>\n      <td>NaN</td>\n      <td>NaN</td>\n      <td>NaN</td>\n      <td>18</td>\n      <td>other</td>\n      <td>4</td>\n      <td>514.0</td>\n      <td>128.500000</td>\n    </tr>\n    <tr>\n      <th>3</th>\n      <td>e73ff63a-9fd7-43dd-86d7-c5c53ba6e865</td>\n      <td>2003</td>\n      <td>чоловіча</td>\n      <td>Сумська область</td>\n      <td>Сумська область</td>\n      <td>м.Конотоп</td>\n      <td>Студент закладу вищої освіти</td>\n      <td>місто</td>\n      <td>Молодший спеціаліст</td>\n      <td>українська</td>\n      <td>...</td>\n      <td>NaN</td>\n      <td>NaN</td>\n      <td>NaN</td>\n      <td>NaN</td>\n      <td>NaN</td>\n      <td>17</td>\n      <td>north</td>\n      <td>3</td>\n      <td>387.0</td>\n      <td>129.000000</td>\n    </tr>\n    <tr>\n      <th>4</th>\n      <td>0b95a736-7ad9-49db-854a-abdb959f02f4</td>\n      <td>2003</td>\n      <td>жіноча</td>\n      <td>Львівська область</td>\n      <td>м.Львів</td>\n      <td>Галицький район міста</td>\n      <td>випускник закладу загальної середньої освіти 2...</td>\n      <td>місто</td>\n      <td>Універсальний</td>\n      <td>українська</td>\n      <td>...</td>\n      <td>NaN</td>\n      <td>NaN</td>\n      <td>NaN</td>\n      <td>NaN</td>\n      <td>NaN</td>\n      <td>17</td>\n      <td>west</td>\n      <td>4</td>\n      <td>602.0</td>\n      <td>150.500000</td>\n    </tr>\n    <tr>\n      <th>...</th>\n      <td>...</td>\n      <td>...</td>\n      <td>...</td>\n      <td>...</td>\n      <td>...</td>\n      <td>...</td>\n      <td>...</td>\n      <td>...</td>\n      <td>...</td>\n      <td>...</td>\n      <td>...</td>\n      <td>...</td>\n      <td>...</td>\n      <td>...</td>\n      <td>...</td>\n      <td>...</td>\n      <td>...</td>\n      <td>...</td>\n      <td>...</td>\n      <td>...</td>\n      <td>...</td>\n    </tr>\n    <tr>\n      <th>201207</th>\n      <td>b9cb08b0-e084-488c-85ee-b8da94de04f5</td>\n      <td>2003</td>\n      <td>чоловіча</td>\n      <td>Чернігівська область</td>\n      <td>Чернігівська область</td>\n      <td>м.Прилуки</td>\n      <td>випускник закладу загальної середньої освіти 2...</td>\n      <td>місто</td>\n      <td>Інформаційно-технологічний</td>\n      <td>українська</td>\n      <td>...</td>\n      <td>NaN</td>\n      <td>NaN</td>\n      <td>NaN</td>\n      <td>NaN</td>\n      <td>NaN</td>\n      <td>17</td>\n      <td>north</td>\n      <td>4</td>\n      <td>709.0</td>\n      <td>177.250000</td>\n    </tr>\n    <tr>\n      <th>201208</th>\n      <td>7d3d693a-09b8-48f9-8c6e-01671aafcdca</td>\n      <td>2003</td>\n      <td>жіноча</td>\n      <td>Одеська область</td>\n      <td>м.Одеса</td>\n      <td>Приморський район міста</td>\n      <td>Студент закладу вищої освіти</td>\n      <td>місто</td>\n      <td>Молодший спеціаліст</td>\n      <td>українська</td>\n      <td>...</td>\n      <td>NaN</td>\n      <td>NaN</td>\n      <td>NaN</td>\n      <td>NaN</td>\n      <td>NaN</td>\n      <td>17</td>\n      <td>south</td>\n      <td>3</td>\n      <td>381.0</td>\n      <td>127.000000</td>\n    </tr>\n    <tr>\n      <th>201209</th>\n      <td>4906881e-b034-440d-ac42-6df966fa8077</td>\n      <td>2003</td>\n      <td>чоловіча</td>\n      <td>Івано-Франківська область</td>\n      <td>Івано-Франківська область</td>\n      <td>м.Калуш</td>\n      <td>випускник закладу загальної середньої освіти 2...</td>\n      <td>місто</td>\n      <td>Історичний</td>\n      <td>українська</td>\n      <td>...</td>\n      <td>NaN</td>\n      <td>NaN</td>\n      <td>NaN</td>\n      <td>NaN</td>\n      <td>NaN</td>\n      <td>17</td>\n      <td>west</td>\n      <td>3</td>\n      <td>593.5</td>\n      <td>197.833333</td>\n    </tr>\n    <tr>\n      <th>201210</th>\n      <td>90437a9b-94cc-4e26-8390-afdd987c0958</td>\n      <td>2003</td>\n      <td>чоловіча</td>\n      <td>Полтавська область</td>\n      <td>Полтавська область</td>\n      <td>м.Лубни</td>\n      <td>випускник закладу загальної середньої освіти 2...</td>\n      <td>місто</td>\n      <td>Фізико-математичний</td>\n      <td>українська</td>\n      <td>...</td>\n      <td>NaN</td>\n      <td>NaN</td>\n      <td>NaN</td>\n      <td>NaN</td>\n      <td>NaN</td>\n      <td>17</td>\n      <td>central</td>\n      <td>3</td>\n      <td>407.0</td>\n      <td>135.666667</td>\n    </tr>\n    <tr>\n      <th>201211</th>\n      <td>a76b934b-6779-47b0-a535-f598335076dd</td>\n      <td>2003</td>\n      <td>жіноча</td>\n      <td>м.Київ</td>\n      <td>м.Київ</td>\n      <td>Деснянський район міста</td>\n      <td>випускник закладу загальної середньої освіти 2...</td>\n      <td>місто</td>\n      <td>Іноземної філології</td>\n      <td>українська</td>\n      <td>...</td>\n      <td>NaN</td>\n      <td>NaN</td>\n      <td>NaN</td>\n      <td>NaN</td>\n      <td>NaN</td>\n      <td>17</td>\n      <td>other</td>\n      <td>3</td>\n      <td>584.5</td>\n      <td>194.833333</td>\n    </tr>\n  </tbody>\n</table>\n<p>201212 rows × 131 columns</p>\n</div>"
     },
     "execution_count": 66,
     "metadata": {},
     "output_type": "execute_result"
    }
   ],
   "source": [
    "df = pd.read_csv(\"filtered_data/2020.csv\")\n",
    "# count_by_region = df.groupby('region_name').size().reset_index(name='count')\n",
    "# \n",
    "# print(count_by_region)\n",
    "df"
   ],
   "metadata": {
    "collapsed": false,
    "ExecuteTime": {
     "end_time": "2025-06-17T15:43:04.354104Z",
     "start_time": "2025-06-17T15:43:00.041241Z"
    }
   },
   "id": "de4c2b5a454dc78c"
  },
  {
   "cell_type": "code",
   "execution_count": null,
   "outputs": [],
   "source": [],
   "metadata": {
    "collapsed": false
   },
   "id": "375ba7cced43056a"
  }
 ],
 "metadata": {
  "kernelspec": {
   "display_name": "Python 3",
   "language": "python",
   "name": "python3"
  },
  "language_info": {
   "codemirror_mode": {
    "name": "ipython",
    "version": 2
   },
   "file_extension": ".py",
   "mimetype": "text/x-python",
   "name": "python",
   "nbconvert_exporter": "python",
   "pygments_lexer": "ipython2",
   "version": "2.7.6"
  }
 },
 "nbformat": 4,
 "nbformat_minor": 5
}
